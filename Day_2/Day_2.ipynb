{
 "cells": [
  {
   "cell_type": "code",
   "execution_count": 1,
   "id": "b598e1c1-fa31-4375-9dde-79c0f878e4c7",
   "metadata": {},
   "outputs": [
    {
     "name": "stdin",
     "output_type": "stream",
     "text": [
      "Enter a number:  1221\n"
     ]
    },
    {
     "name": "stdout",
     "output_type": "stream",
     "text": [
      "1221 is a Palindrome!\n"
     ]
    }
   ],
   "source": [
    "#Palendrome\n",
    "#find Weather the number is palendrome or not using While loop and without using typecasting and inbuild functions\n",
    "a= int(input(\"Enter a number: \"))\n",
    "org=a\n",
    "rev=0\n",
    "\n",
    "while a>0:\n",
    "    digit = a % 10\n",
    "    rev = rev * 10 +digit\n",
    "    a = a//10\n",
    "\n",
    "if org == rev:\n",
    "    print(f\"{org} is a Palindrome!\")\n",
    "else:\n",
    "    print(f\"{org} is not a Palindrome\")\n",
    "       "
   ]
  },
  {
   "cell_type": "code",
   "execution_count": 7,
   "id": "ad30c6a8-1425-4461-9985-5edd171d7781",
   "metadata": {},
   "outputs": [
    {
     "name": "stdin",
     "output_type": "stream",
     "text": [
      "Enter the number:  1543\n"
     ]
    },
    {
     "name": "stdout",
     "output_type": "stream",
     "text": [
      "1543 is  not a Armstrong Number!\n"
     ]
    }
   ],
   "source": [
    "# armstrong number(Dynamic)\n",
    "# length of input is taken as each digit's power and after calculating it output should be same as inpult\n",
    "a=int(input(\"Enter the number: \"))\n",
    "org=a\n",
    "res=0\n",
    "n=len(str(a))\n",
    "\n",
    "while a!=0:\n",
    "    digit = a % 10\n",
    "    res = res+(digit)**n\n",
    "    a = a//10\n",
    "if org == res:\n",
    "    print(f\"{org} is a Armstrong!\")\n",
    "else:\n",
    "    print(f\"{org} is  not a Armstrong Number!\")"
   ]
  },
  {
   "cell_type": "code",
   "execution_count": null,
   "id": "e46d9e8c-c0c2-4085-8ec0-f072a6d3a710",
   "metadata": {},
   "outputs": [],
   "source": [
    "#static armstrong number\n",
    "a=153\n",
    "n=0\n",
    "while a>0:\n",
    "    r=a%10\n",
    "    n=n+(r)**3\n",
    "    a=a//10\n",
    "print(n)"
   ]
  },
  {
   "cell_type": "code",
   "execution_count": 25,
   "id": "91d1fc7d-af7c-4372-8dce-cf6c847604e0",
   "metadata": {},
   "outputs": [
    {
     "name": "stdin",
     "output_type": "stream",
     "text": [
      "Enter the input: 8\n"
     ]
    },
    {
     "name": "stdout",
     "output_type": "stream",
     "text": [
      "8 is not a Prime Number\n"
     ]
    }
   ],
   "source": [
    "#Prime Number\n",
    "n=int(input(\"Enter the input:\"))\n",
    "i=2\n",
    "while i<n:\n",
    "    r=n%i\n",
    "    if r==0:\n",
    "        print(f\"{n} is not a Prime Number\")\n",
    "        break\n",
    "    i+=1\n",
    "if n==i:\n",
    "    print(f\"{n} is a Prime Number\")"
   ]
  },
  {
   "cell_type": "code",
   "execution_count": 1,
   "id": "b8a9b726-6b99-4728-a26f-760f87c2ab4b",
   "metadata": {},
   "outputs": [
    {
     "name": "stdout",
     "output_type": "stream",
     "text": [
      "[2, 3, 5, 7, 11, 13, 17, 19, 23, 29, 31, 37, 41, 43, 47, 53, 59, 61, 67, 71, 73, 79, 83, 89, 97]\n"
     ]
    }
   ],
   "source": [
    "#Prime Number 1 to 100\n",
    "n=1\n",
    "lt=[]\n",
    "while n<100:\n",
    "    i=2\n",
    "    while i<n:\n",
    "        r=n%i\n",
    "        if r==0:\n",
    "            break\n",
    "        i+=1\n",
    "    if n==i:\n",
    "        lt.append(i)\n",
    "    n+=1\n",
    "print(lt)"
   ]
  },
  {
   "cell_type": "code",
   "execution_count": 3,
   "id": "fb9383ea-763d-45b1-a229-f3aeb5687981",
   "metadata": {},
   "outputs": [
    {
     "name": "stdout",
     "output_type": "stream",
     "text": [
      "Prime Numbers: [2, 3, 5, 7, 11, 13, 17, 19, 23, 29, 31, 37, 41, 43, 47, 53, 59, 61, 67, 71, 73, 79, 83, 89, 97]\n",
      "Non Prime Numbers: [4, 6, 8, 9, 10, 12, 14, 15, 16, 18, 20, 21, 22, 24, 25, 26, 27, 28, 30, 32, 33, 34, 35, 36, 38, 39, 40, 42, 44, 45, 46, 48, 49, 50, 51, 52, 54, 55, 56, 57, 58, 60, 62, 63, 64, 65, 66, 68, 69, 70, 72, 74, 75, 76, 77, 78, 80, 81, 82, 84, 85, 86, 87, 88, 90, 91, 92, 93, 94, 95, 96, 98, 99, 100]\n"
     ]
    }
   ],
   "source": [
    "#Not Prime Number 1 to 100\n",
    "n=1\n",
    "npm=[]\n",
    "pm=[]\n",
    "while n<=100:\n",
    "    i=2\n",
    "    while i<n:\n",
    "        r=n%i\n",
    "        if r==0:\n",
    "            npm.append(n)\n",
    "            break\n",
    "        i+=1\n",
    "    if n==i:\n",
    "        pm.append(i)\n",
    "    n+=1\n",
    "print(\"Prime Numbers:\",pm)\n",
    "print(\"Non Prime Numbers:\",npm)\n"
   ]
  },
  {
   "cell_type": "code",
   "execution_count": 13,
   "id": "18c14a36-fcc3-45ac-b900-132bfba02140",
   "metadata": {},
   "outputs": [
    {
     "name": "stdout",
     "output_type": "stream",
     "text": [
      "[2, 4, 6, 8, 10, 12, 14, 16, 18, 20, 22, 24, 26, 28, 30, 32, 34, 36, 38, 40, 42, 44, 46, 48, 50, 52, 54, 56, 58, 60, 62, 64, 66, 68, 70, 72, 74, 76, 78, 80, 82, 84, 86, 88, 90, 92, 94, 96, 98, 100, 102, 104, 106, 108, 110, 112, 114, 116, 118, 120, 122, 124, 126, 128, 130, 132, 134, 136, 138, 140, 142, 144, 146, 148, 150, 152, 154, 156, 158, 160, 162, 164, 166, 168, 170, 172, 174, 176, 178, 180, 182, 184, 186, 188, 190, 192, 194, 196, 198, 200, 202, 204, 206, 208, 210, 212, 214, 216, 218, 220, 222, 224, 226, 228, 230, 232, 234, 236, 238, 240, 242, 244, 246, 248, 250, 252, 254, 256, 258, 260, 262, 264, 266, 268, 270, 272, 274, 276, 278, 280, 282, 284, 286, 288, 290, 292, 294, 296, 298, 300, 302, 304, 306, 308, 310, 312, 314, 316, 318, 320, 322, 324, 326, 328, 330, 332, 334, 336, 338, 340, 342, 344, 346, 348, 350, 352, 354, 356, 358, 360, 362, 364, 366, 368, 370, 372, 374, 376, 378, 380, 382, 384, 386, 388, 390, 392, 394, 396, 398, 400, 402, 404, 406, 408, 410, 412, 414, 416, 418, 420, 422, 424, 426, 428, 430, 432, 434, 436, 438, 440, 442, 444, 446, 448, 450, 452, 454, 456, 458, 460, 462, 464, 466, 468, 470, 472, 474, 476, 478, 480, 482, 484, 486, 488, 490, 492, 494, 496, 498, 500, 502, 504, 506, 508, 510, 512, 514, 516, 518, 520, 522, 524, 526, 528, 530, 532, 534, 536, 538, 540, 542, 544, 546, 548, 550, 552, 554, 556, 558, 560, 562, 564, 566, 568, 570, 572, 574, 576, 578, 580, 582, 584, 586, 588, 590, 592, 594, 596, 598, 600, 602, 604, 606, 608, 610, 612, 614, 616, 618, 620, 622, 624, 626, 628, 630, 632, 634, 636, 638, 640, 642, 644, 646, 648, 650, 652, 654, 656, 658, 660, 662, 664, 666, 668, 670, 672, 674, 676, 678, 680, 682, 684, 686, 688, 690, 692, 694, 696, 698, 700, 702, 704, 706, 708, 710, 712, 714, 716, 718, 720, 722, 724, 726, 728, 730, 732, 734, 736, 738, 740, 742, 744, 746, 748, 750, 752, 754, 756, 758, 760, 762, 764, 766, 768, 770, 772, 774, 776, 778, 780, 782, 784, 786, 788, 790, 792, 794, 796, 798, 800, 802, 804, 806, 808, 810, 812, 814, 816, 818, 820, 822, 824, 826, 828, 830, 832, 834, 836, 838, 840, 842, 844, 846, 848, 850, 852, 854, 856, 858, 860, 862, 864, 866, 868, 870, 872, 874, 876, 878, 880, 882, 884, 886, 888, 890, 892, 894, 896, 898, 900, 902, 904, 906, 908, 910, 912, 914, 916, 918, 920, 922, 924, 926, 928, 930, 932, 934, 936, 938, 940, 942, 944, 946, 948, 950, 952, 954, 956, 958, 960, 962, 964, 966, 968, 970, 972, 974, 976, 978, 980, 982, 984, 986, 988, 990, 992, 994, 996, 998]\n"
     ]
    }
   ],
   "source": [
    "#list compression\n",
    "a=[i for i in range(2,1000,2)]\n",
    "print(a)"
   ]
  },
  {
   "cell_type": "code",
   "execution_count": 30,
   "id": "52b301da-81da-4573-86c3-2f5668f9a9cc",
   "metadata": {},
   "outputs": [
    {
     "name": "stdout",
     "output_type": "stream",
     "text": [
      "b\n"
     ]
    }
   ],
   "source": [
    "import random\n",
    "a=['a','b','c','d']\n",
    "print(random.choice(a))"
   ]
  },
  {
   "cell_type": "code",
   "execution_count": 3,
   "id": "be1fad53-c6e1-4ecc-9fc0-b372e5cd5c3a",
   "metadata": {},
   "outputs": [
    {
     "name": "stdout",
     "output_type": "stream",
     "text": [
      "act\n"
     ]
    },
    {
     "name": "stdin",
     "output_type": "stream",
     "text": [
      "enter your word:  cat\n"
     ]
    },
    {
     "name": "stdout",
     "output_type": "stream",
     "text": [
      "Your score:  1\n",
      "arm\n"
     ]
    },
    {
     "name": "stdin",
     "output_type": "stream",
     "text": [
      "enter your word:  ram\n"
     ]
    },
    {
     "name": "stdout",
     "output_type": "stream",
     "text": [
      "Your score:  2\n",
      "war\n"
     ]
    },
    {
     "name": "stdin",
     "output_type": "stream",
     "text": [
      "enter your word:  raw\n"
     ]
    },
    {
     "name": "stdout",
     "output_type": "stream",
     "text": [
      "Your score:  3\n",
      "ten\n"
     ]
    },
    {
     "name": "stdin",
     "output_type": "stream",
     "text": [
      "enter your word:  net\n"
     ]
    },
    {
     "name": "stdout",
     "output_type": "stream",
     "text": [
      "Your score:  4\n"
     ]
    }
   ],
   "source": [
    "#word simulator\n",
    "score=0\n",
    "a=['cat','act','ram','arm','war','raw','net','ten']\n",
    "b=['act','arm','war','ten']\n",
    "for i in b:\n",
    "    print(i)\n",
    "    c=input(\"enter your word: \")\n",
    "    \n",
    "    if c in a:\n",
    "        score+=1\n",
    "    else:\n",
    "        score-=1\n",
    "    print(\"Your score: \",score)\n",
    "    "
   ]
  },
  {
   "cell_type": "code",
   "execution_count": null,
   "id": "a5ac832b-a41f-473a-869d-cd4b2f2480aa",
   "metadata": {},
   "outputs": [
    {
     "name": "stdout",
     "output_type": "stream",
     "text": [
      "net\n"
     ]
    },
    {
     "name": "stdin",
     "output_type": "stream",
     "text": [
      "If you want to play enter the word or entre quit:  net\n"
     ]
    },
    {
     "name": "stdout",
     "output_type": "stream",
     "text": [
      "you entered same word again again,I am not giving any score\n",
      "tab\n"
     ]
    },
    {
     "name": "stdin",
     "output_type": "stream",
     "text": [
      "If you want to play enter the word or entre quit:  tab\n"
     ]
    },
    {
     "name": "stdout",
     "output_type": "stream",
     "text": [
      "you entered same word again again,I am not giving any score\n",
      "net\n"
     ]
    },
    {
     "name": "stdin",
     "output_type": "stream",
     "text": [
      "If you want to play enter the word or entre quit:  jh\n"
     ]
    },
    {
     "name": "stdout",
     "output_type": "stream",
     "text": [
      "Incorrect word!\n",
      "You loose the score,  -1\n",
      "cat\n"
     ]
    },
    {
     "name": "stdin",
     "output_type": "stream",
     "text": [
      "If you want to play enter the word or entre quit:  act\n"
     ]
    },
    {
     "name": "stdout",
     "output_type": "stream",
     "text": [
      "Correct word!\n",
      "You earn 0 points\n",
      "ten\n"
     ]
    },
    {
     "name": "stdin",
     "output_type": "stream",
     "text": [
      "If you want to play enter the word or entre quit:  ten\n"
     ]
    },
    {
     "name": "stdout",
     "output_type": "stream",
     "text": [
      "you entered same word again again,I am not giving any score\n",
      "ten\n"
     ]
    }
   ],
   "source": [
    "import random\n",
    "score=0\n",
    "data=['cat','act','bat','tab','net','ten','art','rat']\n",
    "while True:\n",
    "    for i in range(3):\n",
    "        letters= list(random.choice(data))\n",
    "        genw=\"\".join(letters)\n",
    "        print(genw)\n",
    "        user_word=input(\"If you want to play enter the word or entre quit: \")\n",
    "        if user_word==\"quit\":\n",
    "            print(\"Thanks for playing\")\n",
    "            break\n",
    "        if user_word!=genw:\n",
    "                l=True\n",
    "                for letter in user_word:\n",
    "                    if letter in letters:\n",
    "                        letters.remove(letter)\n",
    "                    else:\n",
    "                        l=False\n",
    "                        \n",
    "                    if l and user_word in data:\n",
    "                        score+=1\n",
    "                        print(\"Correct word!\")\n",
    "                        print(f\"You earn {score} points\")\n",
    "                    else:\n",
    "                        print(\"Incorrect word!\")\n",
    "                    break\n",
    "        else:\n",
    "            print(\"you entered same word again again,I am not giving any score\")\n",
    "    else:\n",
    "        score-=1\n",
    "        print(\"You loose the score, \",score)"
   ]
  },
  {
   "cell_type": "code",
   "execution_count": 27,
   "id": "35e04102-56bb-487a-b092-bf68b3fbb022",
   "metadata": {},
   "outputs": [
    {
     "name": "stdout",
     "output_type": "stream",
     "text": [
      "   a\n",
      "  bbb\n",
      " ccccc\n",
      "ddddddd\n",
      "a\n"
     ]
    }
   ],
   "source": [
    "rows =4\n",
    "ch='a'\n",
    "for i in range(rows):\n",
    "    print(' ' *(rows -i -1)+ ch*(2*i+1))\n",
    "    ch=chr(ord(ch)+1)\n",
    "\n",
    "print(chr(97))"
   ]
  },
  {
   "cell_type": "code",
   "execution_count": 35,
   "id": "b60daa43-6897-45dc-88cd-a70401769b63",
   "metadata": {},
   "outputs": [
    {
     "name": "stdout",
     "output_type": "stream",
     "text": [
      "      d \n",
      "    c c c \n",
      "  b b b b b \n",
      "a a a a a a a \n"
     ]
    }
   ],
   "source": [
    "row =1\n",
    "while row<=4:\n",
    "    cols=1\n",
    "    while cols<=4-row:\n",
    "        print(\" \", end=\" \")\n",
    "        cols+=1\n",
    "    col=1\n",
    "    while col<(2*row):\n",
    "        print(chr(96+cols), end=\" \")\n",
    "        col+=1\n",
    "    row+=1\n",
    "    print()"
   ]
  },
  {
   "cell_type": "code",
   "execution_count": 39,
   "id": "519cf363-739c-411f-8857-e3e3337c32e2",
   "metadata": {},
   "outputs": [
    {
     "name": "stdout",
     "output_type": "stream",
     "text": [
      "      a \n",
      "    b b b \n",
      "  c c c c c \n",
      "d d d d d d d \n"
     ]
    }
   ],
   "source": [
    "row =1\n",
    "while row<=4:\n",
    "    cols=1\n",
    "    while cols<=4-row:\n",
    "        print(\" \", end=\" \")\n",
    "        cols+=1\n",
    "    col=1\n",
    "    while col<(2*row):\n",
    "        print(chr(96+row), end=\" \")\n",
    "        col+=1\n",
    "    row+=1\n",
    "    print()"
   ]
  },
  {
   "cell_type": "code",
   "execution_count": 35,
   "id": "f2101c09-5d4f-464d-8e41-5ebb82627c4c",
   "metadata": {},
   "outputs": [
    {
     "name": "stdout",
     "output_type": "stream",
     "text": [
      "      a \n",
      "    a b c \n",
      "  a b c d e \n",
      "a b c d e f g \n"
     ]
    }
   ],
   "source": [
    "\"\"\"\n",
    "Give me a python program to print the following pattern using while loop\n",
    "      a\n",
    "    a b c\n",
    "  a b c d e\n",
    "a b c d e f g \n",
    "\"\"\"\n",
    "row=1\n",
    "while row<=4:\n",
    "    cols=1\n",
    "    while cols<=4-row:\n",
    "        print(\" \",end=\" \")\n",
    "        cols+=1\n",
    "    col=1\n",
    "    while col<(2*row):\n",
    "        print(chr(96+col),end=\" \")\n",
    "        col +=1\n",
    "    row+=1\n",
    "    print()"
   ]
  },
  {
   "cell_type": "code",
   "execution_count": 61,
   "id": "2d3e0a0a-25cf-436d-b71d-f3f318471c65",
   "metadata": {},
   "outputs": [
    {
     "name": "stdout",
     "output_type": "stream",
     "text": [
      "Welcome to food services!!\n"
     ]
    },
    {
     "name": "stdin",
     "output_type": "stream",
     "text": [
      "what would you like to eat(veg/nonveg):  veg\n"
     ]
    },
    {
     "name": "stdout",
     "output_type": "stream",
     "text": [
      "Great choice!\n"
     ]
    },
    {
     "name": "stdin",
     "output_type": "stream",
     "text": [
      "Choose a dish:  panner\n"
     ]
    }
   ],
   "source": [
    "#food order service(partial)\n",
    "food={\"veg\":[\"panner=240rs\",\"daal=90rs\",\"kaju masala=270\"],\n",
    "      \"nonveg\":[\"chicken=560rs\",\"beaf=480rs\",\"kabab=600rs\"]}\n",
    "print(\"Welcome to food services!!\")\n",
    "ord=input(\"what would you like to eat(veg/nonveg): \")\n",
    "if ord==\"veg\":\n",
    "    print(\"Great choice!\")\n",
    "    vegf=input(\"Choose a dish: \")\n",
    "    if vegf in food:\n",
    "        print(\"ok\")\n",
    "elif ord==\"nonveg\":\n",
    "     print(\"Gu khaa!!\")"
   ]
  },
  {
   "cell_type": "code",
   "execution_count": 73,
   "id": "ca25b752-8be1-4e2f-9540-3343d953ae28",
   "metadata": {},
   "outputs": [
    {
     "name": "stdin",
     "output_type": "stream",
     "text": [
      "May I know your name:  shreya\n"
     ]
    },
    {
     "name": "stdout",
     "output_type": "stream",
     "text": [
      "Hello shreya Welcome to food services!!\n"
     ]
    },
    {
     "name": "stdin",
     "output_type": "stream",
     "text": [
      "what would you like to eat(veg/nonveg):  nonveg\n"
     ]
    },
    {
     "name": "stdout",
     "output_type": "stream",
     "text": [
      "chicken=560rs to order press 0\n",
      "beaf=480rs to order press 1\n",
      "kabab=600rs to order press 2\n"
     ]
    },
    {
     "name": "stdin",
     "output_type": "stream",
     "text": [
      "Enter the value to order food:  0\n"
     ]
    },
    {
     "name": "stdout",
     "output_type": "stream",
     "text": [
      "your order is placed successfully!!\n",
      "chicken=560rs\n"
     ]
    }
   ],
   "source": [
    "#food delivery service(complete)\n",
    "name=input(\"May I know your name: \")\n",
    "food={\"veg\":[\"panner=240rs\",\"daal=90rs\",\"kaju masala=270\"],\n",
    "      \"nonveg\":[\"chicken=560rs\",\"beaf=480rs\",\"kabab=600rs\"]}\n",
    "print(f\"Hello {name} Welcome to food services!!\")\n",
    "ord=input(\"what would you like to eat(veg/nonveg): \")\n",
    "c=0\n",
    "for i in food[ord]:\n",
    "    print(f\"{i} to order press {c}\")\n",
    "    c+=1\n",
    "order=int(input(\"Enter the value to order food: \"))\n",
    "print(\"your order is placed successfully!!\")\n",
    "print(food[ord][order])"
   ]
  },
  {
   "cell_type": "code",
   "execution_count": 75,
   "id": "9928a93d-c679-4f06-a1c3-367d653b81b7",
   "metadata": {},
   "outputs": [
    {
     "name": "stdout",
     "output_type": "stream",
     "text": [
      "jsyufgvuegdyfvuyeg\n"
     ]
    }
   ],
   "source": [
    "#1.simple function\n",
    "def Data():\n",
    "    print(\"jsyufgvuegdyfvuyeg\")\n",
    "Data()"
   ]
  },
  {
   "cell_type": "code",
   "execution_count": 79,
   "id": "8dc40ab5-c406-4ab0-893d-aa039bdc7bf1",
   "metadata": {},
   "outputs": [
    {
     "name": "stdout",
     "output_type": "stream",
     "text": [
      "My name is Shreya, my age is 20, I live in Solapur\n"
     ]
    }
   ],
   "source": [
    "#2/3.function with position argument/ function with parameter \n",
    "def Data(name, age, city):\n",
    "    print(f\"My name is {name}, my age is {age}, I live in {city}.\")\n",
    "Data(\"Shreya\",20,\"Solapur\")"
   ]
  },
  {
   "cell_type": "code",
   "execution_count": 1,
   "id": "80337c3c-cdf3-43d1-8a49-190346954d28",
   "metadata": {},
   "outputs": [
    {
     "name": "stdout",
     "output_type": "stream",
     "text": [
      "My name is Shreya, my age is 20, I live in Solapur.\n"
     ]
    }
   ],
   "source": [
    "#4.function with keyword argument\n",
    "def Data(name, age, city):\n",
    "    print(f\"My name is {name}, my age is {age}, I live in {city}.\")\n",
    "Data(age=20, name=\"Shreya\",city=\"Solapur\")"
   ]
  },
  {
   "cell_type": "code",
   "execution_count": 5,
   "id": "60126ca4-0ae9-4734-93b3-e9fdf7cc4d5a",
   "metadata": {},
   "outputs": [
    {
     "name": "stdout",
     "output_type": "stream",
     "text": [
      "My name is Shreya, my age is 20, I live in Solapur.\n",
      "My name is Shreya, my age is 20, I live in Kolhapur.\n"
     ]
    }
   ],
   "source": [
    "#5.Default parameter function\n",
    "def Data(name, age, city=\"Solapur\"):\n",
    "    print(f\"My name is {name}, my age is {age}, I live in {city}.\")\n",
    "Data(\"Shreya\",20)\n",
    "\n",
    "def data(name, age, city=\"Solapur\"):\n",
    "    print(f\"My name is {name}, my age is {age}, I live in {city}.\")\n",
    "Data(\"Shreya\",20,\"Kolhapur\")"
   ]
  },
  {
   "cell_type": "code",
   "execution_count": 3,
   "id": "2b72c70f-826f-4b62-b1e9-338ef0ed7d8a",
   "metadata": {},
   "outputs": [
    {
     "name": "stdout",
     "output_type": "stream",
     "text": [
      "(1, 2, 3, 4, 5, 6, 7)\n",
      "28\n",
      "<class 'tuple'>\n"
     ]
    }
   ],
   "source": [
    "#6.arbotratory function/variable length function\n",
    "#a Non-keyword variable length function\n",
    "def Add(*a):\n",
    "    print(a)\n",
    "    print(sum(a))\n",
    "    print(type(a))\n",
    "Add(1,2,3,4,5,6,7)"
   ]
  },
  {
   "cell_type": "code",
   "execution_count": 11,
   "id": "39edb7d2-40cf-4c2e-b782-02b66df161f6",
   "metadata": {},
   "outputs": [
    {
     "name": "stdout",
     "output_type": "stream",
     "text": [
      "{'a': 1, 'b': 2, 'c': 3}\n",
      "<class 'dict'>\n"
     ]
    }
   ],
   "source": [
    "#6.b Keyword argument variable length function\n",
    "def Add(**a):\n",
    "    print(a)\n",
    "    print(type(a))\n",
    "Add(a=1,b=2,c=3)"
   ]
  },
  {
   "cell_type": "code",
   "execution_count": 7,
   "id": "5803b25b-1865-4860-91b8-a9a276a8bacf",
   "metadata": {},
   "outputs": [
    {
     "name": "stdout",
     "output_type": "stream",
     "text": [
      "7\n"
     ]
    }
   ],
   "source": [
    "#Create add function by own\n",
    "def Add(num1, num2):\n",
    "    res=num1+num2\n",
    "    print(res)\n",
    "Add(2,5)"
   ]
  },
  {
   "cell_type": "code",
   "execution_count": 11,
   "id": "8dcb8b25-1c83-4a45-8013-c8a4df01349c",
   "metadata": {},
   "outputs": [
    {
     "name": "stdout",
     "output_type": "stream",
     "text": [
      "Length of tupple is: 5\n"
     ]
    }
   ],
   "source": [
    "#Create len function by own\n",
    "def length(*a):\n",
    "    res=len(a)\n",
    "    print(f\"Length of tupple is: {res}\")\n",
    "\n",
    "length(1,2,3,4,5)"
   ]
  },
  {
   "cell_type": "code",
   "execution_count": 15,
   "id": "afcdd3d3-3796-4cfb-94c5-17932fad243a",
   "metadata": {},
   "outputs": [
    {
     "name": "stdout",
     "output_type": "stream",
     "text": [
      "10\n"
     ]
    }
   ],
   "source": [
    "#Create len function bynown\n",
    "def length(a):\n",
    "    c=1\n",
    "    for i in a :\n",
    "        c=c+1\n",
    "    return c\n",
    "b=[1,2,3,4,5,6,7,8,9]\n",
    "print(length(b))"
   ]
  },
  {
   "cell_type": "code",
   "execution_count": 39,
   "id": "b8f5a77b-600c-4e8d-9234-ffc6b9b31e57",
   "metadata": {},
   "outputs": [
    {
     "name": "stdout",
     "output_type": "stream",
     "text": [
      "Output: MY NAME IS SHREYA\n"
     ]
    }
   ],
   "source": [
    "#Create uppercase function by own\n",
    "#there is difference of 32 between ackee values of small and captail letters\n",
    "\n",
    "def upcase(inpt):\n",
    "    opt=\"\"\n",
    "    for i in inpt:\n",
    "        if i!=\" \":\n",
    "            if ord(i)>90:\n",
    "                d=(ord(i)-32)\n",
    "                opt=opt+(chr(d))\n",
    "            else:\n",
    "                opt=opt+i\n",
    "        else:\n",
    "            opt=opt+\" \"\n",
    "    return opt\n",
    "\n",
    "inpt=(\"My name is Shreya\")\n",
    "print(\"Output:\",upcase(inpt))"
   ]
  },
  {
   "cell_type": "code",
   "execution_count": 43,
   "id": "dd5333ea-9e2f-4d1a-85e4-37d05bce124c",
   "metadata": {},
   "outputs": [
    {
     "name": "stdout",
     "output_type": "stream",
     "text": [
      "Output: my name is shreya\n"
     ]
    }
   ],
   "source": [
    "#Create lowercase function by own\n",
    "#there is difference of 32 between ackee values of small and captail letters\n",
    "\n",
    "def lower(inpt):\n",
    "    opt=\"\"\n",
    "    for i in inpt:\n",
    "        if i!=\" \":\n",
    "            if ord(i)<90 and ord(i)>=65:\n",
    "                d=(ord(i)+32)\n",
    "                opt=opt+(chr(d))\n",
    "            else:\n",
    "                opt=opt+i\n",
    "        else:\n",
    "            opt=opt+\" \"\n",
    "    return opt\n",
    "\n",
    "inpt=(\"My Name Is SHREYA\")\n",
    "print(\"Output:\",lower(inpt))"
   ]
  },
  {
   "cell_type": "code",
   "execution_count": 3,
   "id": "7e2df720-5bf7-4873-9648-645b4bdcba84",
   "metadata": {},
   "outputs": [
    {
     "name": "stdout",
     "output_type": "stream",
     "text": [
      "1\n",
      "2\n",
      "3\n",
      "4\n",
      "5\n",
      "6\n",
      "7\n",
      "8\n",
      "9\n",
      "10\n"
     ]
    }
   ],
   "source": [
    "# print 1 to 10 without using loop\n",
    "def numbers(n):\n",
    "    print (n)\n",
    "    n+=1\n",
    "    if n<=10:\n",
    "        return numbers(n)\n",
    "numbers(1)"
   ]
  },
  {
   "cell_type": "code",
   "execution_count": 58,
   "id": "6da5c734-3dd8-4311-a196-380124fcd38a",
   "metadata": {},
   "outputs": [
    {
     "name": "stdout",
     "output_type": "stream",
     "text": [
      "1 2 3 4 5 6 7 8 9 10 \n",
      "2 4 6 8 10 12 14 16 18 20 \n",
      "3 6 9 12 15 18 21 24 27 30 \n",
      "4 8 12 16 20 24 28 32 36 40 \n",
      "5 10 15 20 25 30 35 40 45 50 \n",
      "6 12 18 24 30 36 42 48 54 60 \n",
      "7 14 21 28 35 42 49 56 63 70 \n",
      "8 16 24 32 40 48 56 64 72 80 \n",
      "9 18 27 36 45 54 63 72 81 90 \n",
      "10 20 30 40 50 60 70 80 90 100 \n"
     ]
    }
   ],
   "source": [
    "#1 to 10 tables\n",
    "# print 1 to 10 without using loop\n",
    "def outer(a):\n",
    "    def inner(b):\n",
    "        print(a*b, end=\" \")\n",
    "        b+=1\n",
    "        if b<=10:\n",
    "            return inner(b)\n",
    "    inner(1)\n",
    "    print()\n",
    "    a+=1\n",
    "    if a<=10:\n",
    "        return outer(a)\n",
    "outer(1)"
   ]
  },
  {
   "cell_type": "code",
   "execution_count": 13,
   "id": "50549d65-8122-4f5e-b972-ba3d7123258b",
   "metadata": {},
   "outputs": [
    {
     "name": "stdout",
     "output_type": "stream",
     "text": [
      "1\n",
      "4\n",
      "25\n",
      "676\n"
     ]
    }
   ],
   "source": [
    "# print 1 to 10 without using loop\n",
    "def numbers(n):\n",
    "    print (n)\n",
    "    n+=1\n",
    "    if n<=100:\n",
    "        return numbers(n**2)\n",
    "numbers(1)\n",
    "    "
   ]
  },
  {
   "cell_type": "code",
   "execution_count": 19,
   "id": "1c5e73c1-e4e8-46e0-a6d4-7158cda19799",
   "metadata": {},
   "outputs": [
    {
     "name": "stdout",
     "output_type": "stream",
     "text": [
      "[1, 4, 9, 16, 25, 36]\n"
     ]
    }
   ],
   "source": [
    "#find square of list \n",
    "def sqr(a):\n",
    "    for i in range(len(a)):\n",
    "        a[i]=a[i]*a[i]\n",
    "    return(a)\n",
    "a=[1,2,3,4,5,6]\n",
    "print(sqr(a))"
   ]
  },
  {
   "cell_type": "code",
   "execution_count": 5,
   "id": "4a6744bd-f428-49df-8a66-1de8386f925f",
   "metadata": {},
   "outputs": [
    {
     "name": "stdout",
     "output_type": "stream",
     "text": [
      "3\n"
     ]
    }
   ],
   "source": [
    "#lamda function/anoynomous function(smaller function which is used  in other funtion)\n",
    "#a= lambda parameter : expressions/ no need to return anything it is default\n",
    "a=lambda a,b : a+b\n",
    "print(a(1,2))"
   ]
  },
  {
   "cell_type": "code",
   "execution_count": 23,
   "id": "749cabd1-c273-4a04-acfb-c516382acccc",
   "metadata": {},
   "outputs": [
    {
     "name": "stdout",
     "output_type": "stream",
     "text": [
      "12\n",
      "13\n",
      "aa\n"
     ]
    }
   ],
   "source": [
    "#generator function\n",
    "def abc():\n",
    "    yield 12\n",
    "    yield 13\n",
    "    yield \"aa\"\n",
    "a=abc()\n",
    "print(next(a))\n",
    "print(next(a))\n",
    "print(next(a))"
   ]
  },
  {
   "cell_type": "code",
   "execution_count": 11,
   "id": "3c842887-b480-4a9b-9e5a-1d80a09cc80c",
   "metadata": {},
   "outputs": [
    {
     "name": "stdout",
     "output_type": "stream",
     "text": [
      "120\n"
     ]
    }
   ],
   "source": [
    "#recursion function(function calls itself eachtime with modified arguments untill it reaches the base case\n",
    "def factorial(n):\n",
    "    if n == 0:  # Base case\n",
    "        return 1\n",
    "    return n * factorial(n - 1)  # Recursive call\n",
    "\n",
    "print(factorial(5))  # Output: 120\n"
   ]
  },
  {
   "cell_type": "code",
   "execution_count": 1,
   "id": "b829b28d-d1b4-4520-ba26-9bd4a9ca206b",
   "metadata": {},
   "outputs": [
    {
     "name": "stdout",
     "output_type": "stream",
     "text": [
      "act\n"
     ]
    },
    {
     "name": "stdin",
     "output_type": "stream",
     "text": [
      "Entre your word to play or entre quit:  cat\n"
     ]
    },
    {
     "name": "stdout",
     "output_type": "stream",
     "text": [
      "1\n",
      "bat\n"
     ]
    },
    {
     "name": "stdin",
     "output_type": "stream",
     "text": [
      "Entre your word to play or entre quit:  quit\n"
     ]
    },
    {
     "name": "stdout",
     "output_type": "stream",
     "text": [
      "Thanks for playing!\n"
     ]
    }
   ],
   "source": [
    "score=0\n",
    "a=['act','bat','rat','war']\n",
    "b=['act','bat','rat','war','cat','tab','art','raw']\n",
    "for i in a:\n",
    "    print(i)\n",
    "    c=input(\"Entre your word to play or entre quit: \")\n",
    "    if c=='quit':\n",
    "        print(\"Thanks for playing!\")\n",
    "        break\n",
    "    elif c in b:\n",
    "        score+=1\n",
    "    else:\n",
    "        score-=1\n",
    "    print(score)"
   ]
  },
  {
   "cell_type": "code",
   "execution_count": 8,
   "id": "68c8971f-fe7e-4a8e-8376-065af3acb307",
   "metadata": {},
   "outputs": [
    {
     "name": "stdout",
     "output_type": "stream",
     "text": [
      "act\n"
     ]
    },
    {
     "name": "stdin",
     "output_type": "stream",
     "text": [
      "Enter your word or quit:  quit\n"
     ]
    },
    {
     "name": "stdout",
     "output_type": "stream",
     "text": [
      "Thanks for playing!\n"
     ]
    }
   ],
   "source": [
    "score=0\n",
    "a=['act','bat','net']\n",
    "b=['act','cat','tab','bat','ten','net']\n",
    "\n",
    "for i in a:\n",
    "    print(i)\n",
    "    n=input(\"Enter your word or quit: \")\n",
    "    \n",
    "    if n=='quit':\n",
    "        print(\"Thanks for playing!\")\n",
    "        break\n",
    "    elif n in b:\n",
    "        score=score+1\n",
    "    else:\n",
    "        score=score-1\n",
    "    print (score)\n"
   ]
  },
  {
   "cell_type": "code",
   "execution_count": null,
   "id": "eacbf36e-a51f-490a-8194-228bb20c910b",
   "metadata": {},
   "outputs": [],
   "source": []
  }
 ],
 "metadata": {
  "kernelspec": {
   "display_name": "Python [conda env:base] *",
   "language": "python",
   "name": "conda-base-py"
  },
  "language_info": {
   "codemirror_mode": {
    "name": "ipython",
    "version": 3
   },
   "file_extension": ".py",
   "mimetype": "text/x-python",
   "name": "python",
   "nbconvert_exporter": "python",
   "pygments_lexer": "ipython3",
   "version": "3.12.7"
  }
 },
 "nbformat": 4,
 "nbformat_minor": 5
}
