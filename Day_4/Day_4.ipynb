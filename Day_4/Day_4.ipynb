{
 "cells": [
  {
   "cell_type": "code",
   "execution_count": 13,
   "id": "0c01319e-3b9e-4995-9732-abbeda237a73",
   "metadata": {},
   "outputs": [
    {
     "name": "stdout",
     "output_type": "stream",
     "text": [
      "12\n",
      "ABC\n",
      "ABC\n",
      "XYZ\n",
      "PQR\n"
     ]
    }
   ],
   "source": [
    "#encapsulation\n",
    "#private('__')\n",
    "#Public(' ')\n",
    "#protected('_')\n",
    "\n",
    "#Private variable\n",
    "class data:\n",
    "    def __init__(self,__amt):\n",
    "        self.__amt=__amt\n",
    "        print(self.__amt)\n",
    "\n",
    "obj=data(12)\n",
    "\n",
    "#public variable\n",
    "class data1:\n",
    "    def __init__(self,name):\n",
    "        self.name=name\n",
    "        print(self.name)\n",
    "\n",
    "obj=data1(\"ABC\")\n",
    "print(obj.name)\n",
    "obj.name=\"XYZ\"\n",
    "print(obj.name)\n",
    "\n",
    "#protected variable\n",
    "class data2:\n",
    "    def __init__(self,_name):\n",
    "        self._name=_name\n",
    "        print(self._name)\n",
    "\n",
    "obj=data2(\"PQR\")"
   ]
  },
  {
   "cell_type": "code",
   "execution_count": 25,
   "id": "b6b8815f-a5cf-477d-bca4-06da06d0c079",
   "metadata": {},
   "outputs": [
    {
     "name": "stdout",
     "output_type": "stream",
     "text": [
      "30\n"
     ]
    }
   ],
   "source": [
    "#private with inheritance(You cant inherite the private variables)\n",
    "class A:\n",
    "    def __init__(self,__amt):\n",
    "        self.__amt=__amt\n",
    "    def show1(self):\n",
    "        print(self.__amt)\n",
    "\n",
    "class B(A):\n",
    "    def show(self):\n",
    "        print(self.__amt)\n",
    "\n",
    "obj=B(30)\n",
    "obj.show1()"
   ]
  },
  {
   "cell_type": "code",
   "execution_count": 31,
   "id": "d3bc4d96-fdb1-48cd-b735-54b2ffdbb01e",
   "metadata": {},
   "outputs": [],
   "source": [
    "#accessign private variables in another class or outside of the class\n",
    "class A:\n",
    "    def __init__(self,__amt):\n",
    "        self.__amt=__amt\n",
    "\n",
    "class B(A):\n",
    "    def show(self):\n",
    "        print(self._A__amt)\n",
    "\n",
    "obj=B(20)"
   ]
  },
  {
   "cell_type": "code",
   "execution_count": 47,
   "id": "ed059244-1573-4cee-b240-8fb2b60f807f",
   "metadata": {},
   "outputs": [
    {
     "name": "stdout",
     "output_type": "stream",
     "text": [
      "This is a private method!!\n",
      "Private\n"
     ]
    }
   ],
   "source": [
    "#Private methods\n",
    "\n",
    "class A:\n",
    "    def __init__(self,name):\n",
    "        self.name=name\n",
    "        print(self.name)\n",
    "    def __show():\n",
    "        print(\"This is a private method!!\")\n",
    "    __show()\n",
    "obj=A(\"Private\")\n",
    "#obj.__show()"
   ]
  },
  {
   "cell_type": "code",
   "execution_count": 53,
   "id": "8586bdbb-1fe7-4871-8e89-1114f1566ac1",
   "metadata": {},
   "outputs": [
    {
     "name": "stdout",
     "output_type": "stream",
     "text": [
      "Calling another method into this method\n",
      "This is a private method!\n"
     ]
    }
   ],
   "source": [
    "class A:\n",
    "    def __show(self):\n",
    "        print(\"This is a private method!\")\n",
    "\n",
    "    def call(self):\n",
    "        print(\"Calling another method into this method\")\n",
    "        self.__show()\n",
    "\n",
    "obj=A()\n",
    "obj.call()"
   ]
  },
  {
   "cell_type": "code",
   "execution_count": 55,
   "id": "e491b31f-b8be-42c9-98f3-c242fb7c0900",
   "metadata": {},
   "outputs": [
    {
     "name": "stdout",
     "output_type": "stream",
     "text": [
      "Private method calling to the outside!\n"
     ]
    }
   ],
   "source": [
    "class A:\n",
    "    def __show(self):\n",
    "        print(\"Private method calling to the outside!\")\n",
    "\n",
    "obj=A()\n",
    "obj._A__show()"
   ]
  },
  {
   "cell_type": "code",
   "execution_count": 57,
   "id": "b8a38b56-a323-487f-b08a-aaec2af7aefa",
   "metadata": {},
   "outputs": [
    {
     "name": "stdout",
     "output_type": "stream",
     "text": [
      "Second method\n"
     ]
    }
   ],
   "source": [
    "#Polymorphism\n",
    "#Overriding\n",
    "class A:\n",
    "    def show(self):\n",
    "        print(\"Frist class\")\n",
    "\n",
    "class B(A):\n",
    "    def show(self):\n",
    "        print(\"Second method\")\n",
    "#Show method is overided here\n",
    "obj=B()\n",
    "obj.show()"
   ]
  },
  {
   "cell_type": "code",
   "execution_count": 1,
   "id": "5e6a2901-e5f2-4adf-bd0a-1b202574e4cd",
   "metadata": {},
   "outputs": [
    {
     "name": "stdout",
     "output_type": "stream",
     "text": [
      "1 2\n",
      "3 4\n",
      "4,6\n"
     ]
    }
   ],
   "source": [
    "#Overloading doesnt work in python\n",
    "#operator overloading using magic method\n",
    "#__Add\n",
    "class A:\n",
    "    def __init__(self,a,b):\n",
    "        self.a=a\n",
    "        self.b=b\n",
    "        print(self.a,self.b)\n",
    "\n",
    "    def __add__(left,right):\n",
    "        a=left.a+right.a\n",
    "        b=left.b+right.b\n",
    "        return(f\"{a},{b}\")\n",
    "        #return(f\"{left.a+right.a},{left.b+right.b}\")\n",
    "\n",
    "obj=A(1,2)\n",
    "obj1=A(3,4)\n",
    "print(obj+obj1)"
   ]
  },
  {
   "cell_type": "code",
   "execution_count": 2,
   "id": "3092947c-323d-4ad6-8f0f-a692b2a37692",
   "metadata": {},
   "outputs": [
    {
     "name": "stdout",
     "output_type": "stream",
     "text": [
      "Bark\n",
      "Meow\n"
     ]
    }
   ],
   "source": [
    "#Polymorphism with Functions and Objects\n",
    "class Dog:\n",
    "    def sound(self):\n",
    "        return \"Bark\"\n",
    "\n",
    "class Cat:\n",
    "    def sound(self):\n",
    "        return \"Meow\"\n",
    "\n",
    "# Function accepting different objects\n",
    "def make_sound(animal):\n",
    "    print(animal.sound())\n",
    "\n",
    "dog = Dog()\n",
    "cat = Cat()\n",
    "\n",
    "make_sound(dog)  # Calls Dog's sound method\n",
    "make_sound(cat)  # Calls Cat's sound method\n"
   ]
  },
  {
   "cell_type": "code",
   "execution_count": 6,
   "id": "e56efb84-dbd1-4e4e-a3c8-2d5ba6b06628",
   "metadata": {},
   "outputs": [
    {
     "name": "stdout",
     "output_type": "stream",
     "text": [
      "Point(6, 8)\n"
     ]
    }
   ],
   "source": [
    "#Operator Overloading\n",
    "\n",
    "class Point:\n",
    "    def __init__(self, x, y):\n",
    "        self.x = x\n",
    "        self.y = y\n",
    "\n",
    "    def __add__(self, other):  # Overloading `+` operator\n",
    "        return Point(self.x + other.x, self.y + other.y)\n",
    "\n",
    "    def display(self):\n",
    "        print(f\"Point({self.x}, {self.y})\")\n",
    "\n",
    "p1 = Point(2, 3)\n",
    "p2 = Point(4, 5)\n",
    "p3 = p1 + p2  # Calls __add__ method\n",
    "p3.display()\n"
   ]
  },
  {
   "cell_type": "code",
   "execution_count": 5,
   "id": "5d946734-81db-4385-84d4-1ca4e2407ee9",
   "metadata": {},
   "outputs": [
    {
     "name": "stdout",
     "output_type": "stream",
     "text": [
      "1 2\n",
      "3 4\n",
      "3,8\n"
     ]
    }
   ],
   "source": [
    "#__mul\n",
    "class A:\n",
    "    def __init__(self,a,b):\n",
    "        self.a=a\n",
    "        self.b=b\n",
    "        print(self.a,self.b)\n",
    "\n",
    "    \n",
    "\n",
    "    def __mul__(left,right):\n",
    "        a=left.a*right.a\n",
    "        b=left.b*right.b\n",
    "        return(f\"{a},{b}\")\n",
    "        #return(f\"{left.a+right.a},{left.b+right.b}\")\n",
    "\n",
    "obj=A(1,2)\n",
    "obj1=A(3,4)\n",
    "print(obj*obj1)"
   ]
  },
  {
   "cell_type": "code",
   "execution_count": 1,
   "id": "0f878799-c8da-4687-80b1-65b810792b9b",
   "metadata": {},
   "outputs": [
    {
     "name": "stdout",
     "output_type": "stream",
     "text": [
      "1 2\n",
      "3 4\n",
      "(0.3333333333333333, 0.5)\n"
     ]
    }
   ],
   "source": [
    "#__truediv\n",
    "class A:\n",
    "    def __init__(self,a,b):\n",
    "        self.a=a\n",
    "        self.b=b\n",
    "        print(self.a,self.b)\n",
    "\n",
    "    \n",
    "\n",
    "    def __truediv__(left,right):\n",
    "        a=left.a/right.a\n",
    "        b=left.b/right.b\n",
    "        return(f\"{a,b}\")\n",
    "        #return(f\"{left.a+right.a},{left.b+right.b}\")\n",
    "\n",
    "obj=A(1,2)\n",
    "obj1=A(3,4)\n",
    "print(obj/obj1)"
   ]
  },
  {
   "cell_type": "code",
   "execution_count": 5,
   "id": "e24a96bf-aa88-4e6f-8d44-8d743754d620",
   "metadata": {},
   "outputs": [
    {
     "name": "stdout",
     "output_type": "stream",
     "text": [
      "1 2\n",
      "3 4\n",
      "False,True\n"
     ]
    }
   ],
   "source": [
    "#__gt__\n",
    "class A:\n",
    "    def __init__(self,a,b):\n",
    "        self.a=a\n",
    "        self.b=b\n",
    "        print(self.a,self.b)\n",
    "\n",
    "    def __gt__(left,right):\n",
    "        a=left.a>right.a\n",
    "        b=left.b<right.b\n",
    "        return(f\"{a},{b}\")\n",
    "        #return(f\"{left.a+right.a},{left.b+right.b}\")\n",
    "\n",
    "obj=A(1,2)\n",
    "obj1=A(3,4)\n",
    "print(obj>obj1)"
   ]
  },
  {
   "cell_type": "code",
   "execution_count": 9,
   "id": "7e8afc5b-4ac0-44e8-a3a7-7901192fcc12",
   "metadata": {},
   "outputs": [
    {
     "name": "stdout",
     "output_type": "stream",
     "text": [
      "1 2\n",
      "3 4\n",
      "True,False\n"
     ]
    }
   ],
   "source": [
    "#__lt__\n",
    "class A:\n",
    "    def __init__(self,a,b):\n",
    "        self.a=a\n",
    "        self.b=b\n",
    "        print(self.a,self.b)\n",
    "\n",
    "    def __lt__(left,right):\n",
    "        a=left.a<right.a\n",
    "        b=left.b>right.b\n",
    "        return(f\"{a},{b}\")\n",
    "        #return(f\"{left.a+right.a},{left.b+right.b}\")\n",
    "\n",
    "obj=A(1,2)\n",
    "obj1=A(3,4)\n",
    "print(obj<obj1)"
   ]
  },
  {
   "cell_type": "code",
   "execution_count": 2,
   "id": "ce9a7a8a-0dd6-4bb4-a9fa-d8fac6db2ed4",
   "metadata": {},
   "outputs": [
    {
     "name": "stdout",
     "output_type": "stream",
     "text": [
      "1 2\n",
      "3 3\n",
      "False,False\n"
     ]
    }
   ],
   "source": [
    "#__eq__\n",
    "class A:\n",
    "    def __init__(self,a,b):\n",
    "        self.a=a\n",
    "        self.b=b\n",
    "        print(self.a,self.b)\n",
    "\n",
    "    def __eq__(left,right):\n",
    "        a=left.a==right.a\n",
    "        b=left.b==right.b\n",
    "        return(f\"{a},{b}\")\n",
    "        #return(f\"{left.a+right.a},{left.b+right.b}\")\n",
    "\n",
    "obj=A(1,2)\n",
    "obj1=A(3,3)\n",
    "print(obj==obj1)"
   ]
  },
  {
   "cell_type": "code",
   "execution_count": 12,
   "id": "43707c18-921d-48ef-94f2-a74934df9dae",
   "metadata": {},
   "outputs": [
    {
     "name": "stdout",
     "output_type": "stream",
     "text": [
      "Abstraction!!!!\n"
     ]
    }
   ],
   "source": [
    "#abstraction\n",
    "from abc import ABC,abstractmethod\n",
    "class Data(ABC):\n",
    "    @abstractmethod\n",
    "    def show(self):\n",
    "        pass\n",
    "\n",
    "class Data1(Data):\n",
    "    def show(self):\n",
    "        print(\"Abstraction!!!!\")\n",
    "\n",
    "obj=Data1()\n",
    "obj.show()"
   ]
  },
  {
   "cell_type": "code",
   "execution_count": 18,
   "id": "ca8d86b0-dc3b-4881-9c80-063e8eac156b",
   "metadata": {},
   "outputs": [
    {
     "name": "stdout",
     "output_type": "stream",
     "text": [
      "This is a try block\n",
      "This is error\n"
     ]
    }
   ],
   "source": [
    "#exception handling\n",
    "\"\"\"\n",
    "try:\n",
    "    main logic of application\n",
    "except:\n",
    "    error raised or found in try block\n",
    "\"\"\"\n",
    "\n",
    "try:\n",
    "    print(\"This is a try block\")\n",
    "    a=a/0\n",
    "except:\n",
    "    print(\"This is error\")"
   ]
  },
  {
   "cell_type": "code",
   "execution_count": 22,
   "id": "def90abf-96d1-4a18-b148-17e7e39229a8",
   "metadata": {},
   "outputs": [
    {
     "name": "stdout",
     "output_type": "stream",
     "text": [
      "This is a try block\n",
      "division by zero\n"
     ]
    }
   ],
   "source": [
    "#inbuild error presentor\n",
    "try:\n",
    "    print(\"This is a try block\")\n",
    "    a=1/0\n",
    "except Exception as a:\n",
    "    print(a)"
   ]
  },
  {
   "cell_type": "code",
   "execution_count": 32,
   "id": "c7efc46d-fb73-457d-a359-ec9716c6bc12",
   "metadata": {},
   "outputs": [
    {
     "name": "stdout",
     "output_type": "stream",
     "text": [
      "Working!!\n",
      "list index out of range\n",
      "Always run\n"
     ]
    }
   ],
   "source": [
    "try:\n",
    "    print(\"Working!!\")\n",
    "    a=[1,2]\n",
    "    print(a[4])\n",
    "except Exception as a:\n",
    "    print(a)\n",
    "#If there is no error in try then only else runs\n",
    "#If there is error in try then else wont run\n",
    "else:\n",
    "    print(\"Try executed successfully\")\n",
    "finally:\n",
    "    print(\"Always runs\")"
   ]
  },
  {
   "cell_type": "code",
   "execution_count": 44,
   "id": "b851038c-6227-4e4f-a404-c08d275b16dd",
   "metadata": {},
   "outputs": [
    {
     "name": "stdin",
     "output_type": "stream",
     "text": [
      "Enter minimum price (in Lakh):  1\n",
      "Enter maximum price (in Lakh):  10\n"
     ]
    },
    {
     "name": "stdout",
     "output_type": "stream",
     "text": [
      "\n",
      "Available Cars:\n",
      "Model: Swift\n",
      "Company: Maruti\n",
      "Price: 6 Lakh\n",
      "Mileage: 22 kmpl\n",
      "Features: Power Steering, Airbags, ABS\n",
      "\n",
      "Model: i20\n",
      "Company: Hyundai\n",
      "Price: 8 Lakh\n",
      "Mileage: 20 kmpl\n",
      "Features: Touchscreen, Sunroof, Cruise Control\n",
      "\n",
      "Model: Alto\n",
      "Company: Maruti\n",
      "Price: 4 Lakh\n",
      "Mileage: 24 kmpl\n",
      "Features: Basic Airbags, Power Windows\n",
      "\n",
      "Model: Ertiga\n",
      "Company: Maruti\n",
      "Price: 10 Lakh\n",
      "Mileage: 19 kmpl\n",
      "Features: 7 Seater, ABS, Touchscreen\n",
      "\n"
     ]
    }
   ],
   "source": [
    "class Car:\n",
    "    def __init__(self, model, company, price, mileage, features):\n",
    "        self.model = model\n",
    "        self.company = company\n",
    "        self.price = price\n",
    "        self.mileage = mileage\n",
    "        self.features = features\n",
    "\n",
    "    def display_info(self):\n",
    "        return (f\"Model: {self.model}\\nCompany: {self.company}\\nPrice: {self.price} Lakh\\n\"\n",
    "                f\"Mileage: {self.mileage} kmpl\\nFeatures: {', '.join(self.features)}\\n\")\n",
    "\n",
    "class CarDekho:\n",
    "    def __init__(self):\n",
    "        self.car_list = [\n",
    "            Car(\"Swift\", \"Maruti\", 6, 22, [\"Power Steering\", \"Airbags\", \"ABS\"]),\n",
    "            Car(\"i20\", \"Hyundai\", 8, 20, [\"Touchscreen\", \"Sunroof\", \"Cruise Control\"]),\n",
    "            Car(\"Alto\", \"Maruti\", 4, 24, [\"Basic Airbags\", \"Power Windows\"]),\n",
    "            Car(\"City\", \"Honda\", 12, 18, [\"Sunroof\", \"Touchscreen\", \"Automatic Gear\"]),\n",
    "            Car(\"Fortuner\", \"Toyota\", 40, 12, [\"4x4 Drive\", \"Luxury Interiors\", \"Safety Features\"]),\n",
    "            Car(\"Ertiga\", \"Maruti\", 10, 19, [\"7 Seater\", \"ABS\", \"Touchscreen\"]),\n",
    "        ]\n",
    "    \n",
    "    def filter_cars_by_price(self, min_price, max_price):\n",
    "        try:\n",
    "            if min_price > max_price:\n",
    "                raise ValueError(\"Minimum price cannot be greater than maximum price.\")\n",
    "            \n",
    "            available_cars = [car for car in self.car_list if min_price <= car.price <= max_price]\n",
    "            \n",
    "            if not available_cars:\n",
    "                return \"No cars available in this price range.\"\n",
    "            \n",
    "            return \"\\n\".join(car.display_info() for car in available_cars)\n",
    "        \n",
    "        except ValueError as e:\n",
    "            return f\"Error: {e}\"\n",
    "        except Exception:\n",
    "            return \"An unexpected error occurred. Please try again.\"\n",
    "\n",
    "# User input and execution\n",
    "if __name__ == \"__main__\":\n",
    "    car_dekho = CarDekho()\n",
    "    try:\n",
    "        min_price = float(input(\"Enter minimum price (in Lakh): \"))\n",
    "        max_price = float(input(\"Enter maximum price (in Lakh): \"))\n",
    "        \n",
    "        print(\"\\nAvailable Cars:\")\n",
    "        print(car_dekho.filter_cars_by_price(min_price, max_price))\n",
    "    except ValueError:\n",
    "        print(\"Invalid input! Please enter numeric values only.\")\n"
   ]
  },
  {
   "cell_type": "code",
   "execution_count": 34,
   "id": "563d612b-2b91-4057-931e-75f9b6d05ade",
   "metadata": {},
   "outputs": [
    {
     "name": "stdin",
     "output_type": "stream",
     "text": [
      "Enter Minimum Price: ₹ 100000\n",
      "Enter Maximum Price: ₹ 600000\n"
     ]
    },
    {
     "name": "stdout",
     "output_type": "stream",
     "text": [
      "\n",
      "Available Cars in Your Price Range:\n",
      "\n",
      "🚗 Model: Swift\n",
      "🏭 Company: Maruti\n",
      "💰 Price: ₹600000\n",
      "⛽ Mileage: 22 km/l\n",
      "🔹 Features: ABS, Airbags, Power Steering\n",
      "----------------------------------------\n"
     ]
    }
   ],
   "source": [
    "# Car data dictionary\n",
    "car_data = [\n",
    "    {\"Model\": \"Swift\", \"Company\": \"Maruti\", \"Price\": 600000, \"Mileage\": \"22 km/l\", \"Features\": [\"ABS\", \"Airbags\", \"Power Steering\"]},\n",
    "    {\"Model\": \"i20\", \"Company\": \"Hyundai\", \"Price\": 900000, \"Mileage\": \"20 km/l\", \"Features\": [\"Sunroof\", \"Airbags\", \"Rear Camera\"]},\n",
    "    {\"Model\": \"City\", \"Company\": \"Honda\", \"Price\": 1200000, \"Mileage\": \"18 km/l\", \"Features\": [\"Cruise Control\", \"Sunroof\", \"ABS\"]},\n",
    "    {\"Model\": \"Fortuner\", \"Company\": \"Toyota\", \"Price\": 3500000, \"Mileage\": \"12 km/l\", \"Features\": [\"4x4\", \"Leather Seats\", \"Touchscreen\"]},\n",
    "    {\"Model\": \"Seltos\", \"Company\": \"Kia\", \"Price\": 1500000, \"Mileage\": \"17 km/l\", \"Features\": [\"ADAS\", \"Airbags\", \"Sunroof\"]},\n",
    "    {\"Model\": \"Ertiga\", \"Company\": \"Maruti\", \"Price\": 1000000, \"Mileage\": \"19 km/l\", \"Features\": [\"ABS\", \"Rear AC\", \"Touchscreen\"]},\n",
    "]\n",
    "\n",
    "# Function to filter cars based on price range\n",
    "def get_cars_in_range(min_price, max_price):\n",
    "    try:\n",
    "        min_price = int(min_price)\n",
    "        max_price = int(max_price)\n",
    "\n",
    "        if min_price > max_price:\n",
    "            raise ValueError(\"Minimum price cannot be greater than maximum price.\")\n",
    "\n",
    "        available_cars = [car for car in car_data if min_price <= car[\"Price\"] <= max_price]\n",
    "\n",
    "        if not available_cars:\n",
    "            print(\"\\nNo cars available in this price range. Try a different range.\\n\")\n",
    "        else:\n",
    "            print(\"\\nAvailable Cars in Your Price Range:\\n\")\n",
    "            for car in available_cars:\n",
    "                print(f\"🚗 Model: {car['Model']}\")\n",
    "                print(f\"🏭 Company: {car['Company']}\")\n",
    "                print(f\"💰 Price: ₹{car['Price']}\")\n",
    "                print(f\"⛽ Mileage: {car['Mileage']}\")\n",
    "                print(f\"🔹 Features: {', '.join(car['Features'])}\")\n",
    "                print(\"-\" * 40)\n",
    "\n",
    "    except ValueError as e:\n",
    "        print(f\"\\n❌ Invalid input: {e}\\nPlease enter valid numbers for price range.\\n\")\n",
    "\n",
    "# Main function\n",
    "def main():\n",
    "    try:\n",
    "        min_price = input(\"Enter Minimum Price: ₹\")\n",
    "        max_price = input(\"Enter Maximum Price: ₹\")\n",
    "        get_cars_in_range(min_price, max_price)\n",
    "    except Exception as e:\n",
    "        print(f\"\\n❌ Unexpected Error: {e}\")\n",
    "\n",
    "# Run the program\n",
    "if __name__ == \"__main__\":\n",
    "    main()\n"
   ]
  },
  {
   "cell_type": "code",
   "execution_count": null,
   "id": "4b70664b-7dda-499c-a584-afca6013f1ff",
   "metadata": {},
   "outputs": [],
   "source": [
    "\"\"\"\n",
    "file handling\n",
    "r- is used to read the file\n",
    "x- is used to create a file\n",
    "w- is used to write a data in a file \n",
    "a- is used to append data into file,also create a file \n",
    "open- it is use to open the file for operations\n",
    "close- it is used to close the file operation\n",
    "read-used to read the file\n",
    "readline-used to read the single line\n",
    "realines- used to read multiple lines\n",
    "\n",
    "syntax\n",
    "variable=open(file path,mode)\n",
    "\"\"\""
   ]
  },
  {
   "cell_type": "code",
   "execution_count": 54,
   "id": "9755ba55-378d-44fa-89b9-42552eeee99c",
   "metadata": {},
   "outputs": [],
   "source": [
    "#Syntax\n",
    "#f=open(\"fileHandeling//second.txt\",\"x\")\n",
    "a=open(\"Day_7.py\",\"x\")"
   ]
  },
  {
   "cell_type": "code",
   "execution_count": 60,
   "id": "58c1b3f3-eef0-4fc2-8106-51672e228a6f",
   "metadata": {},
   "outputs": [
    {
     "data": {
      "text/plain": [
       "22"
      ]
     },
     "execution_count": 60,
     "metadata": {},
     "output_type": "execute_result"
    }
   ],
   "source": [
    "#Disadvantage= previoud data is replaced when new data is written\n",
    "f=open(\"fileHandeling/first.txt\",\"w\")\n",
    "f.write(\"This is my first file \")\n"
   ]
  },
  {
   "cell_type": "code",
   "execution_count": 66,
   "id": "18d19b78-0758-4680-b212-4c0df98f56d5",
   "metadata": {},
   "outputs": [
    {
     "data": {
      "text/plain": [
       "'This is my first file '"
      ]
     },
     "execution_count": 66,
     "metadata": {},
     "output_type": "execute_result"
    }
   ],
   "source": [
    "f=open(\"fileHandeling/first.txt\",\"r\")\n",
    "f.read()\n"
   ]
  },
  {
   "cell_type": "code",
   "execution_count": 74,
   "id": "88c18692-e936-42cd-a08e-24b58b61f33c",
   "metadata": {},
   "outputs": [
    {
     "data": {
      "text/plain": [
       "44"
      ]
     },
     "execution_count": 74,
     "metadata": {},
     "output_type": "execute_result"
    }
   ],
   "source": [
    "f=open(\"fileHandeling/first.txt\",\"w\")\n",
    "f.write(\"This is my file and I am replacing the data \")\n"
   ]
  },
  {
   "cell_type": "code",
   "execution_count": 76,
   "id": "a79ed333-607a-477f-8724-1c97a8687340",
   "metadata": {},
   "outputs": [
    {
     "data": {
      "text/plain": [
       "'This is my file and I am replacing the data '"
      ]
     },
     "execution_count": 76,
     "metadata": {},
     "output_type": "execute_result"
    }
   ],
   "source": [
    "f=open(\"fileHandeling/first.txt\",\"r\")\n",
    "f.read()\n",
    "#Here previous line is replaced by new line"
   ]
  },
  {
   "cell_type": "code",
   "execution_count": 82,
   "id": "a39e03d9-0f06-4768-bce8-d989ee097043",
   "metadata": {},
   "outputs": [
    {
     "data": {
      "text/plain": [
       "23"
      ]
     },
     "execution_count": 82,
     "metadata": {},
     "output_type": "execute_result"
    }
   ],
   "source": [
    "f=open(\"fileHandeling/first.txt\",\"a\")\n",
    "f.write(\"Something new is here!!\")\n",
    "\n",
    "#Using append new data is added next to previous data"
   ]
  },
  {
   "cell_type": "code",
   "execution_count": 84,
   "id": "fba3381e-44ac-4d1b-a8a2-71bc8455b5aa",
   "metadata": {},
   "outputs": [
    {
     "data": {
      "text/plain": [
       "'This is my file and I am replacing the data Something new is here!!Something new is here!!'"
      ]
     },
     "execution_count": 84,
     "metadata": {},
     "output_type": "execute_result"
    }
   ],
   "source": [
    "f=open(\"fileHandeling/first.txt\",\"r\")\n",
    "f.read()"
   ]
  },
  {
   "cell_type": "code",
   "execution_count": 8,
   "id": "50da28be-4536-4fb6-bb7e-77a89a76476b",
   "metadata": {},
   "outputs": [],
   "source": [
    "#you can also create a file using a\n",
    "f=open(\"fileHandeling/last.txt\",\"a\")"
   ]
  },
  {
   "cell_type": "code",
   "execution_count": 15,
   "id": "976c8d6a-e5c7-4b65-bc5b-331d68abb9a6",
   "metadata": {},
   "outputs": [
    {
     "name": "stdin",
     "output_type": "stream",
     "text": [
      "Enter your name:  Shreya\n",
      "Class in which you are studying:   TY\n",
      "Enter your roll no:  35\n",
      "please enter your age:  21\n"
     ]
    },
    {
     "data": {
      "text/plain": [
       "47"
      ]
     },
     "execution_count": 15,
     "metadata": {},
     "output_type": "execute_result"
    }
   ],
   "source": [
    "f=open(\"fileHandeling/Data.txt\",\"x\")\n",
    "name=input(\"Enter your name: \")\n",
    "classes=input(\"Class in which you are studying: \")\n",
    "roll=input(\"Enter your roll no: \")\n",
    "age=int(input(\"please enter your age: \"))\n",
    "\n",
    "f.write(f\"Name: {name}/Class: {classes}/roll_Number: {roll}/Age: {age}\")"
   ]
  },
  {
   "cell_type": "code",
   "execution_count": 13,
   "id": "e12df3c7-ba18-478c-8f27-829128151c48",
   "metadata": {},
   "outputs": [
    {
     "name": "stdin",
     "output_type": "stream",
     "text": [
      "fileHandeling/Cretae file with your name:  Shreya\n"
     ]
    },
    {
     "name": "stdout",
     "output_type": "stream",
     "text": [
      "File created successfully!\n"
     ]
    },
    {
     "name": "stdin",
     "output_type": "stream",
     "text": [
      "entre your name:  Shreya Vikrant Patil\n",
      "Entre your age:  21\n"
     ]
    },
    {
     "data": {
      "text/plain": [
       "80"
      ]
     },
     "execution_count": 13,
     "metadata": {},
     "output_type": "execute_result"
    }
   ],
   "source": [
    "file = input(\"fileHandeling/Cretae file with your name: \")\n",
    "f=open(f\"{file}.txt\",\"a\")\n",
    "print(\"File created successfully!\")\n",
    "name=input(\"entre your name: \")\n",
    "age=input(\"Entre your age: \")\n",
    "qua=(\"Entre your qualification: \")\n",
    "f.write(f\"Name: {name} \\n Age: {age} \\n Qualification: {qua}\")"
   ]
  },
  {
   "cell_type": "code",
   "execution_count": 51,
   "id": "aeba9221-0787-4b47-bfc8-87ed34550d63",
   "metadata": {},
   "outputs": [
    {
     "name": "stdout",
     "output_type": "stream",
     "text": [
      "Total line in data.txt are 3\n",
      "Total number of letters including spaces are 66\n",
      "Total number of spaces in data.txt: 10\n",
      "Total number of letters without spaces in data.txt: 56\n",
      "Vovels:22\n",
      "cons:44\n"
     ]
    }
   ],
   "source": [
    "f=open(\"fileHandeling/Shreya.txt\",\"r\")\n",
    "c=0\n",
    "a=f.readlines()\n",
    "for i in a:\n",
    "    c+=1\n",
    "print(f\"Total line in data.txt are {c}\")\n",
    "\n",
    "c2=0\n",
    "for i in range(len(a)):\n",
    "    c2+=len(a[i])\n",
    "print(f\"Total number of letters including spaces are {c2}\")\n",
    "\n",
    "c3=0\n",
    "c4=0\n",
    "for i in a:\n",
    "    for j in i:\n",
    "        if j==\" \":\n",
    "            c3+=1\n",
    "        else:\n",
    "            c4+=1\n",
    "print(f\"Total number of spaces in data.txt: {c3}\")\n",
    "print(f\"Total number of letters without spaces in data.txt: {c4}\")\n",
    "\n",
    "\n",
    "c5=0\n",
    "c6=0\n",
    "for i in a:\n",
    "    for j in i:\n",
    "        if j in \"aeiou\":\n",
    "            c5+=1\n",
    "        else:\n",
    "            c6+=1\n",
    "\n",
    "print(f\"Vovels:{c5}\")\n",
    "print(f\"cons:{c6}\")\n",
    "\n"
   ]
  },
  {
   "cell_type": "code",
   "execution_count": 5,
   "id": "aec10a2e-931c-4867-93d8-00f199e00d13",
   "metadata": {},
   "outputs": [
    {
     "name": "stdin",
     "output_type": "stream",
     "text": [
      "Search the word:  dummy\n"
     ]
    },
    {
     "name": "stdout",
     "output_type": "stream",
     "text": [
      "True\n"
     ]
    }
   ],
   "source": [
    "f=open(\"fileHandeling/last.txt\",\"r\")\n",
    "a=f.readlines()\n",
    "name=input(\"Search the word: \")\n",
    "for i in a:\n",
    "    a1=i.split()\n",
    "    for j in a1:\n",
    "        if j.lower()==name:\n",
    "            print(True)\n",
    "            break\n",
    "    else:\n",
    "        print(False)"
   ]
  },
  {
   "cell_type": "code",
   "execution_count": 9,
   "id": "34c0392e-9134-4944-a681-de1d30eebf1b",
   "metadata": {},
   "outputs": [],
   "source": [
    "#delete the file\n",
    "import os\n",
    "\n",
    "os.remove(\"fileHandeling/Delete.txt\")"
   ]
  },
  {
   "cell_type": "code",
   "execution_count": 19,
   "id": "eceb6bff-b849-49d1-b2e7-a787da6f0e11",
   "metadata": {},
   "outputs": [
    {
     "name": "stdin",
     "output_type": "stream",
     "text": [
      "Which file do you want to delete:  HII.txt\n"
     ]
    },
    {
     "name": "stdout",
     "output_type": "stream",
     "text": [
      "HII.txt no file\n"
     ]
    }
   ],
   "source": [
    "import os\n",
    "\n",
    "file=input(\"Which file do you want to delete: \")\n",
    "\n",
    "if os.path.exists(file):\n",
    "    os.remove(file)\n",
    "    print(\"File deleted successfully!!\")\n",
    "else:\n",
    "    print(f\"{file} no file\")"
   ]
  },
  {
   "cell_type": "code",
   "execution_count": null,
   "id": "2cc2b6cc-0f9e-4360-8277-4ded88315347",
   "metadata": {},
   "outputs": [],
   "source": []
  },
  {
   "cell_type": "code",
   "execution_count": null,
   "id": "dfcb5b94-d99a-48ef-9f18-6bb2e936cc17",
   "metadata": {},
   "outputs": [],
   "source": []
  }
 ],
 "metadata": {
  "kernelspec": {
   "display_name": "Python [conda env:base] *",
   "language": "python",
   "name": "conda-base-py"
  },
  "language_info": {
   "codemirror_mode": {
    "name": "ipython",
    "version": 3
   },
   "file_extension": ".py",
   "mimetype": "text/x-python",
   "name": "python",
   "nbconvert_exporter": "python",
   "pygments_lexer": "ipython3",
   "version": "3.12.7"
  }
 },
 "nbformat": 4,
 "nbformat_minor": 5
}
