{
 "cells": [
  {
   "cell_type": "code",
   "execution_count": 6,
   "id": "e6b3dd0c-c13e-458e-bb3c-a123f527e7f0",
   "metadata": {},
   "outputs": [
    {
     "name": "stdout",
     "output_type": "stream",
     "text": [
      "This is the first class in oops\n"
     ]
    }
   ],
   "source": [
    "#Define class\n",
    "class first:\n",
    "    print(\"This is the first class in oops\")\n",
    "#create object for function\n",
    "obj=first()"
   ]
  },
  {
   "cell_type": "code",
   "execution_count": 14,
   "id": "7cf74961-a5a5-4d67-8a8c-63e24c4d4706",
   "metadata": {},
   "outputs": [
    {
     "name": "stdout",
     "output_type": "stream",
     "text": [
      "first function\n"
     ]
    }
   ],
   "source": [
    "#1.instant method(can't access without creating object)\n",
    "#self is a instance argument(method where u write self it is a instance method)\n",
    "#variable which we use into the instant method are instance variable\n",
    "class abc:\n",
    "    def show(self):\n",
    "        print(\"first function\")\n",
    "obj=abc()\n",
    "obj.show()"
   ]
  },
  {
   "cell_type": "code",
   "execution_count": 28,
   "id": "20753279-10f8-4319-a6b6-37d87c185e6a",
   "metadata": {},
   "outputs": [
    {
     "name": "stdout",
     "output_type": "stream",
     "text": [
      "My name is shreya and age is 23\n"
     ]
    }
   ],
   "source": [
    "class abc:\n",
    "    def data(self,name,age):\n",
    "        self.name=name\n",
    "        self.age=age\n",
    "    def show(self):\n",
    "        print(f\"My name is {self.name} and age is {self.age}\")\n",
    "obj=abc()\n",
    "obj.data(\"shreya\",23)\n",
    "obj.show()"
   ]
  },
  {
   "cell_type": "code",
   "execution_count": 4,
   "id": "620354df-92d8-4380-8dc5-339d3786e2f2",
   "metadata": {},
   "outputs": [
    {
     "name": "stdout",
     "output_type": "stream",
     "text": [
      "My name is shreya and age is 23\n"
     ]
    }
   ],
   "source": [
    "#class method\n",
    "#decorator (@classmethod)-(used when you have to call any middle method but not the default last one in inheritance\n",
    "#no need to call clf while printing in same function,used while printing or using in another function\n",
    "class abc:\n",
    "    @classmethod\n",
    "    def get(cls,name,age):\n",
    "        cls.name=name\n",
    "        #No need to call self.age as we are printing in same class only \n",
    "        print(f\"My name is {name} and age is {age}\")\n",
    "abc.get('shreya',23)"
   ]
  },
  {
   "cell_type": "code",
   "execution_count": 44,
   "id": "e07a1110-8914-4e42-9fcf-92c8c5b4a5da",
   "metadata": {},
   "outputs": [
    {
     "name": "stdout",
     "output_type": "stream",
     "text": [
      "My name is shreya and age is 21\n"
     ]
    }
   ],
   "source": [
    "#static method\n",
    "#decorator (@staticmethod)used to provide security or limitation to variable declared in a function\n",
    "#without creating obj can be called\n",
    "#no need to pass instances(self,cls),if you pass it will work as argument\n",
    "#cant use parameters of another function\n",
    "class abc:\n",
    "    @staticmethod\n",
    "    def set(name,age):\n",
    "        print(f\"My name is {name} and age is {age}\")\n",
    "abc.set(\"shreya\",21)"
   ]
  },
  {
   "cell_type": "code",
   "execution_count": 16,
   "id": "2e49f8a8-f6e4-4529-beaa-4febda5d7249",
   "metadata": {},
   "outputs": [
    {
     "name": "stdout",
     "output_type": "stream",
     "text": [
      "I will call first\n",
      "I will be called second\n"
     ]
    }
   ],
   "source": [
    "#special method(Dunder)\n",
    "# (constructor)init -even written at last called at first only\n",
    "# (Destructor)del -even written at first called at last only\n",
    "class abc:\n",
    "    def __init__(self):\n",
    "        print(\"I will call first\")\n",
    "    \n",
    "    def __del__(self):  # Added 'self' to properly define the destructor\n",
    "        print(\"I will make free space\")\n",
    "    \n",
    "    def show(self):\n",
    "        print(\"I will be called second\")\n",
    "\n",
    "obj = abc()\n",
    "obj.show()\n",
    "#del obj  # Explicitly deleting the object to trigger __del__()"
   ]
  },
  {
   "cell_type": "code",
   "execution_count": 12,
   "id": "ff82f18d-85d3-439e-b30c-3a8bd1e87274",
   "metadata": {},
   "outputs": [
    {
     "name": "stdout",
     "output_type": "stream",
     "text": [
      "Your balance: 2000\n"
     ]
    }
   ],
   "source": [
    "#banking system\n",
    "class bank:\n",
    "    def __init__(self,balance):\n",
    "        self.balance=balance\n",
    "        print(f\"Your balance: {balance}\")\n",
    "\n",
    "obj=bank(2000)\n",
    "#obj.show()"
   ]
  },
  {
   "cell_type": "code",
   "execution_count": 14,
   "id": "6127a130-1c9c-4130-a1b4-1ed4049bad98",
   "metadata": {},
   "outputs": [
    {
     "name": "stdout",
     "output_type": "stream",
     "text": [
      "Balance: 1000\n",
      "500rs is depostited to your account\n",
      "Withdrew: 200\n",
      "Balance: 1300\n"
     ]
    }
   ],
   "source": [
    "class Bank():\n",
    "    def __init__(self, balance=0):\n",
    "        self.balance = balance\n",
    "\n",
    "    def check_balance(self):\n",
    "        print(f\"Balance: {self.balance}\")\n",
    "\n",
    "    def deposit(self, depo):\n",
    "        self.balance += depo\n",
    "        print(f\"{depo}rs is depostited to your account\")\n",
    "\n",
    "    def withdraw(self, amount):\n",
    "        if amount <= self.balance:\n",
    "            self.balance -= amount\n",
    "            print(f\"Withdrew: {amount}\")\n",
    "        else:\n",
    "            print(\"Insufficient funds!\")\n",
    "account = Bank(1000)\n",
    "account.check_balance()\n",
    "account.deposit(500)\n",
    "account.withdraw(200)\n",
    "account.check_balance()"
   ]
  },
  {
   "cell_type": "code",
   "execution_count": 1,
   "id": "6b93bea5-08cd-4bd8-ad14-5e84398d9d08",
   "metadata": {},
   "outputs": [
    {
     "name": "stdin",
     "output_type": "stream",
     "text": [
      "Enter user name:  user2\n",
      "Enter your password:  234\n",
      "Enter the amount to deposite:  100\n"
     ]
    },
    {
     "name": "stdout",
     "output_type": "stream",
     "text": [
      "100 credited in your your account total balance is 1100\n",
      "(i): swyam\n",
      "(i): 1100\n",
      "10 credited in your your account total balance is 1090\n",
      "(i): swyam\n",
      "(i): 1090\n"
     ]
    }
   ],
   "source": [
    "class Bank():\n",
    "        def __init__(self,):\n",
    "            self.details={'user1':{123:{'name':'shreya','amt':500}},\n",
    "                          'user2':{234:{'name':'swyam','amt':1000}},\n",
    "                          'user3':{345:{'name':'vikrant','amt':2200}}}\n",
    "            \n",
    "        def deposite(self,user,password,depo):\n",
    "            self.details[user][password]['amt']=(self.details[user][password]['amt'])+depo\n",
    "            a=self.details[user][password]['amt']\n",
    "            \n",
    "            print(f\"{depo} credited in your your account total balance is {a}\")\n",
    "            \n",
    "            for i in self.details[user][password]:\n",
    "                print(f\"(i): {self.details[user][password][i]}\")\n",
    "\n",
    "        def withdraw(self,user,password,wid):\n",
    "            self.details[user][password]['amt']=(self.details[user][password]['amt'])-wid\n",
    "            a=self.details[user][password]['amt']\n",
    "            \n",
    "            print(f\"{wid} credited in your your account total balance is {a}\")\n",
    "            \n",
    "            for i in self.details[user][password]:\n",
    "                print(f\"(i): {self.details[user][password][i]}\")\n",
    "        \n",
    "        \n",
    "obj = Bank()\n",
    "user=input(\"Enter user name: \")\n",
    "pass1=int(input(\"Enter your password: \"))\n",
    "amount=int(input(\"Enter the amount to deposite: \"))\n",
    "obj.deposite(user,pass1,amount)\n",
    "obj.withdraw('user2',234,10)\n",
    "#obj.balance()"
   ]
  },
  {
   "cell_type": "code",
   "execution_count": 19,
   "id": "d8eccf86-ea40-4513-b646-f40956ad6a81",
   "metadata": {},
   "outputs": [
    {
     "name": "stdout",
     "output_type": "stream",
     "text": [
      "This ia my fathers Bunglow\n",
      "My father got me a BMW\n"
     ]
    }
   ],
   "source": [
    "#inheritance(parent/child)\n",
    "class parent():\n",
    "    def __init__(self,house,car):\n",
    "        self.house=house\n",
    "        self.car=car\n",
    "#pass parent class as a parameter to child classs to inherit it\n",
    "class child(parent):\n",
    "    def cshow(self):\n",
    "        print(f\"This ia my fathers {self.house}\")\n",
    "        print(f\"My father got me a {self.car}\")\n",
    "\n",
    "obj=child('Bunglow','BMW')\n",
    "obj.cshow()"
   ]
  },
  {
   "cell_type": "code",
   "execution_count": 37,
   "id": "88a98c23-d3a7-4e0f-96a1-285fd09b95de",
   "metadata": {},
   "outputs": [
    {
     "name": "stdout",
     "output_type": "stream",
     "text": [
      "Bunglow\n",
      "BMW\n"
     ]
    }
   ],
   "source": [
    "#single level inheritance(child inherited form parent)\n",
    "class parent():\n",
    "    def __init__(self,house):\n",
    "        self.house=house\n",
    "        print(self.house)\n",
    "        \n",
    "class child(parent):\n",
    "    def __init__(self,house,car):\n",
    "        super().__init__(house)\n",
    "        self.car=car\n",
    "        print(self.car)\n",
    "\n",
    "obj=child('Bunglow','BMW')\n"
   ]
  },
  {
   "cell_type": "code",
   "execution_count": 10,
   "id": "79b04079-3e15-443b-a5b9-17fb29896934",
   "metadata": {},
   "outputs": [
    {
     "name": "stdout",
     "output_type": "stream",
     "text": [
      "hii\n",
      "helloo grandpaa\n",
      "Good grandpaa\n"
     ]
    }
   ],
   "source": [
    "#multilevel inheritance\n",
    "class A:\n",
    "    def __init__(self,name):\n",
    "        self.name=name\n",
    "        print(f\"hii\")\n",
    "class b(A):\n",
    "    def show1(self):\n",
    "        print(f\"helloo {self.name}\")\n",
    "\n",
    "class c(b):\n",
    "    def show2(self):\n",
    "        print(f\"Good {self.name}\")\n",
    "\n",
    "obj= c(\"grandpaa\")\n",
    "obj.show1()\n",
    "obj.show2()"
   ]
  },
  {
   "cell_type": "code",
   "execution_count": 12,
   "id": "745ccca5-38b8-4001-b482-5b6ba25d9847",
   "metadata": {},
   "outputs": [
    {
     "name": "stdout",
     "output_type": "stream",
     "text": [
      "class name xyz\n",
      "collage name wit\n"
     ]
    }
   ],
   "source": [
    "#multiple inheritance\n",
    "class classData:\n",
    "    def __init__(self,clsname):\n",
    "        self.clsname=clsname\n",
    "        print(f\"class name {self.clsname}\")\n",
    "\n",
    "class collageData:\n",
    "    def __init__(self,clgname):\n",
    "        self.clgname=clgname\n",
    "        print(f\"collage name {self.clgname}\")\n",
    "\n",
    "class studentData(classData,collageData):\n",
    "    def __init__(self,name,clsname,clgname):\n",
    "        classData. __init__(self,clsname)\n",
    "        collageData. __init__(self,clgname)\n",
    "\n",
    "obj=studentData(\"shreya\",\"xyz\",\"wit\")"
   ]
  },
  {
   "cell_type": "code",
   "execution_count": 14,
   "id": "eb03d23f-78f2-43dc-ad29-c133062aa3b7",
   "metadata": {},
   "outputs": [
    {
     "name": "stdout",
     "output_type": "stream",
     "text": [
      "Addition of two numbers are 3\n"
     ]
    }
   ],
   "source": [
    "#Hierarchy inheritance\n",
    "class A:\n",
    "    def __init__(self,a):\n",
    "        self.a=a\n",
    "\n",
    "class B(A):\n",
    "    pass\n",
    "\n",
    "class C(A):\n",
    "    pass\n",
    "\n",
    "class D(A):\n",
    "    def __init__(self,a,b):\n",
    "        super().__init__(a)\n",
    "        print(f\"Addition of two numbers are {self.a+b}\")\n",
    "\n",
    "obj=D(1,2)"
   ]
  },
  {
   "cell_type": "code",
   "execution_count": 40,
   "id": "4343b37c-8328-4063-bcc5-7f2faafd4b0f",
   "metadata": {},
   "outputs": [
    {
     "name": "stdout",
     "output_type": "stream",
     "text": [
      "I am student 1\n",
      "I am student 2\n",
      "I am student 3\n",
      "I am teacher of student1 and student2 and student3\n"
     ]
    }
   ],
   "source": [
    "#hybrid inheritance\n",
    "class student1:\n",
    "    def show1(self):\n",
    "        print(\"I am student 1\")\n",
    "\n",
    "class student2(student1):\n",
    "    def show2(self):\n",
    "        print(\"I am student 2\")\n",
    "\n",
    "class student3:\n",
    "    def show3(self):\n",
    "        print(\"I am student 3\")\n",
    "\n",
    "class teacher(student2,student3):\n",
    "    def show4(self):\n",
    "        print(\"I am teacher of student1 and student2 and student3\")\n",
    "\n",
    "obj = teacher()\n",
    "obj.show1()\n",
    "obj.show2()\n",
    "obj.show3()\n",
    "obj.show4()"
   ]
  },
  {
   "cell_type": "code",
   "execution_count": null,
   "id": "a6d25e8e-9159-4071-8c98-d52a56ae5efa",
   "metadata": {},
   "outputs": [],
   "source": []
  }
 ],
 "metadata": {
  "kernelspec": {
   "display_name": "Python [conda env:base] *",
   "language": "python",
   "name": "conda-base-py"
  },
  "language_info": {
   "codemirror_mode": {
    "name": "ipython",
    "version": 3
   },
   "file_extension": ".py",
   "mimetype": "text/x-python",
   "name": "python",
   "nbconvert_exporter": "python",
   "pygments_lexer": "ipython3",
   "version": "3.12.7"
  }
 },
 "nbformat": 4,
 "nbformat_minor": 5
}
