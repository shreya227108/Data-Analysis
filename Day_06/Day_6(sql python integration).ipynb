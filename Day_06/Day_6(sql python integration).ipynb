{
 "cells": [
  {
   "cell_type": "code",
   "execution_count": 2,
   "id": "48cb474f-c2cd-4188-8773-19295a8f125c",
   "metadata": {},
   "outputs": [
    {
     "name": "stdout",
     "output_type": "stream",
     "text": [
      "Collecting mysql\n",
      "  Using cached mysql-0.0.3-py3-none-any.whl.metadata (746 bytes)\n",
      "Collecting mysqlclient (from mysql)\n",
      "  Using cached mysqlclient-2.2.7-cp312-cp312-win_amd64.whl.metadata (4.8 kB)\n",
      "Using cached mysql-0.0.3-py3-none-any.whl (1.2 kB)\n",
      "Downloading mysqlclient-2.2.7-cp312-cp312-win_amd64.whl (208 kB)\n",
      "Installing collected packages: mysqlclient, mysql\n",
      "Successfully installed mysql-0.0.3 mysqlclient-2.2.7\n",
      "Note: you may need to restart the kernel to use updated packages.\n"
     ]
    }
   ],
   "source": [
    "pip install mysql\n",
    "#pip install mysql-connector"
   ]
  },
  {
   "cell_type": "code",
   "execution_count": 3,
   "id": "58d63a63-9f03-413b-8dfa-acd5f350e33a",
   "metadata": {},
   "outputs": [
    {
     "name": "stdout",
     "output_type": "stream",
     "text": [
      "Collecting pymysql\n",
      "  Downloading PyMySQL-1.1.1-py3-none-any.whl.metadata (4.4 kB)\n",
      "Downloading PyMySQL-1.1.1-py3-none-any.whl (44 kB)\n",
      "Installing collected packages: pymysql\n",
      "Successfully installed pymysql-1.1.1\n",
      "Note: you may need to restart the kernel to use updated packages.\n"
     ]
    }
   ],
   "source": [
    "pip install pymysql"
   ]
  },
  {
   "cell_type": "code",
   "execution_count": 3,
   "id": "dcf7dcc5-012a-4122-8fdd-736df0e44907",
   "metadata": {},
   "outputs": [],
   "source": [
    "# import mysql.connector\n",
    "# myconn = mysql.connector.connect(\n",
    "#     host='localhost',\n",
    "#     user='root',\n",
    "#     password='@_Shreya484'\n",
    "# )"
   ]
  },
  {
   "cell_type": "code",
   "execution_count": null,
   "id": "0744bbba-5f7a-44d7-a097-c3a2bb431874",
   "metadata": {},
   "outputs": [],
   "source": [
    "import pymysql\n",
    "myconn = pymysql.connect(\n",
    "    host='localhost',\n",
    "    user='root',\n",
    "    password='@_Shreya484'\n",
    ")\n",
    "#print(myconn)\n",
    "\n",
    "cur = myconn.cursor()\n",
    "cur.execute('create database pytrain')\n",
    "#print(cur)"
   ]
  },
  {
   "cell_type": "code",
   "execution_count": 19,
   "id": "c05855dd-ffc2-4c71-954e-3acd7a2c24f2",
   "metadata": {},
   "outputs": [
    {
     "name": "stdout",
     "output_type": "stream",
     "text": [
      "('information_schema',)\n",
      "('mysql',)\n",
      "('performance_schema',)\n",
      "('pyhere',)\n",
      "('pytrain',)\n",
      "('shreya',)\n",
      "('sys',)\n"
     ]
    }
   ],
   "source": [
    "import pymysql\n",
    "myconn = pymysql.connect(\n",
    "    host='localhost',\n",
    "    user='root',\n",
    "    password='@_Shreya484'\n",
    ")\n",
    "#print(myconn)\n",
    "\n",
    "cur = myconn.cursor()\n",
    "#cur.execute('create database pyhere')\n",
    "cur.execute('show databases')\n",
    "#print(cur)\n",
    "\n",
    "#To print all the databases\n",
    "for i in cur:\n",
    "    print(i)"
   ]
  },
  {
   "cell_type": "code",
   "execution_count": 71,
   "id": "ac267f05-2cca-4307-9f51-89eb78ac4b80",
   "metadata": {},
   "outputs": [
    {
     "name": "stdout",
     "output_type": "stream",
     "text": [
      "('newdata',)\n"
     ]
    }
   ],
   "source": [
    "#create new table\n",
    "import pymysql\n",
    "myconn = pymysql.connect(\n",
    "    host='localhost',\n",
    "    user='root',\n",
    "    password='@_Shreya484',\n",
    "    database='pytrain'\n",
    ")\n",
    "\n",
    "cur=myconn.cursor()\n",
    "cur.execute('show tables')\n",
    "for i in cur:\n",
    "    print(i)\n",
    "\n",
    "#cur.execute('create table new(id int primary key,name varchar(10),age int)')"
   ]
  },
  {
   "cell_type": "code",
   "execution_count": 65,
   "id": "42c6b025-1aed-4235-a151-3ea6b9713328",
   "metadata": {},
   "outputs": [
    {
     "name": "stdout",
     "output_type": "stream",
     "text": [
      "('id', 'int', 'NO', 'PRI', None, '')\n",
      "('name', 'varchar(10)', 'YES', '', None, '')\n",
      "('age', 'int', 'YES', '', None, '')\n"
     ]
    }
   ],
   "source": [
    "#describe table\n",
    "import pymysql\n",
    "myconn = pymysql.connect(\n",
    "    host='localhost',\n",
    "    user='root',\n",
    "    password='@_Shreya484',\n",
    "    database='pytrain'\n",
    ")\n",
    "\n",
    "cur=myconn.cursor()\n",
    "cur.execute('desc new')\n",
    "for i in cur:\n",
    "    print(i)"
   ]
  },
  {
   "cell_type": "code",
   "execution_count": 69,
   "id": "5cce956c-88ab-41d4-9e3f-e4f883f9b4ac",
   "metadata": {},
   "outputs": [
    {
     "data": {
      "text/plain": [
       "0"
      ]
     },
     "execution_count": 69,
     "metadata": {},
     "output_type": "execute_result"
    }
   ],
   "source": [
    "#rename table\n",
    "import pymysql\n",
    "myconn = pymysql.connect(\n",
    "    host='localhost',\n",
    "    user='root',\n",
    "    password='@_Shreya484',\n",
    "    database='pytrain'\n",
    ")\n",
    "\n",
    "cur=myconn.cursor()\n",
    "cur.execute('alter table new rename to newdata')"
   ]
  },
  {
   "cell_type": "code",
   "execution_count": 3,
   "id": "9f692faf-12d8-4bd9-b20e-75469d759b46",
   "metadata": {},
   "outputs": [],
   "source": [
    "#insert single data into table\n",
    "import pymysql\n",
    "myconn = pymysql.connect(\n",
    "    host='localhost',\n",
    "    user='root',\n",
    "    password='@_Shreya484',\n",
    "    database='pytrain'\n",
    ")\n",
    "\n",
    "cur=myconn.cursor()\n",
    "#cur.execute('insert into newdata(id,name,age)values(%s,%s,%s)',(1,'shreya',21))\n",
    "#cur.execute('insert into newdata(id,name,age)values(%s,%s,%s)',(2,'shreya',21))\n",
    "query= \"insert into newdata(id,name,age) values(%s,%s,%s)\"\n",
    "val =(3,'swyam',19)\n",
    "cur.execute(query, val)\n",
    "myconn.commit()"
   ]
  },
  {
   "cell_type": "code",
   "execution_count": null,
   "id": "d4ecfaa3-f5fb-4815-9cce-ec75be84c460",
   "metadata": {},
   "outputs": [],
   "source": [
    "#multiple data insertion\n",
    "import pymysql\n",
    "myconn = pymysql.connect(\n",
    "    host='localhost',\n",
    "    user='root',\n",
    "    password='@_Shreya484',\n",
    "    database='pytrain'\n",
    ")\n",
    "\n",
    "cur=myconn.cursor()\n",
    "query= \"insert into newdata(id,name,age) values(%s,%s,%s)\"\n",
    "val=[\n",
    "    (4,'vandana',47),(5,'vikrant',48),(6,'siddhant',22)\n",
    "]\n",
    "cur.executemany(query, val)\n",
    "myconn.commit()"
   ]
  },
  {
   "cell_type": "code",
   "execution_count": 11,
   "id": "05ce371d-3ded-459c-ab84-079f514199ad",
   "metadata": {},
   "outputs": [
    {
     "name": "stdout",
     "output_type": "stream",
     "text": [
      "1\n",
      "shreya\n",
      "21\n",
      "2\n",
      "shreya\n",
      "21\n",
      "3\n",
      "swyam\n",
      "19\n",
      "4\n",
      "vandana\n",
      "47\n",
      "5\n",
      "vikrant\n",
      "48\n",
      "6\n",
      "siddhant\n",
      "22\n"
     ]
    }
   ],
   "source": [
    "#fetch table\n",
    "import pymysql\n",
    "myconn = pymysql.connect(\n",
    "    host='localhost',\n",
    "    user='root',\n",
    "    password='@_Shreya484',\n",
    "    database='pytrain'\n",
    ")\n",
    "\n",
    "cur=myconn.cursor()\n",
    "\n",
    "#To fetch the data\n",
    "cur.execute(\"select * from newdata\")\n",
    "a=cur.fetchall()\n",
    "for i in a:\n",
    "    for j in i:\n",
    "        print(j)"
   ]
  },
  {
   "cell_type": "code",
   "execution_count": null,
   "id": "36bd1bcb-560b-4464-a441-1739ed0f2171",
   "metadata": {},
   "outputs": [],
   "source": []
  },
  {
   "cell_type": "code",
   "execution_count": null,
   "id": "8b527e78-facc-489d-bfe5-1f347eb59dfb",
   "metadata": {},
   "outputs": [],
   "source": []
  }
 ],
 "metadata": {
  "kernelspec": {
   "display_name": "Python [conda env:base] *",
   "language": "python",
   "name": "conda-base-py"
  },
  "language_info": {
   "codemirror_mode": {
    "name": "ipython",
    "version": 3
   },
   "file_extension": ".py",
   "mimetype": "text/x-python",
   "name": "python",
   "nbconvert_exporter": "python",
   "pygments_lexer": "ipython3",
   "version": "3.12.7"
  }
 },
 "nbformat": 4,
 "nbformat_minor": 5
}
