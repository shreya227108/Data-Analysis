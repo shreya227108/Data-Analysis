{
 "cells": [
  {
   "cell_type": "code",
   "execution_count": 62,
   "id": "0c01319e-3b9e-4995-9732-abbeda237a73",
   "metadata": {},
   "outputs": [
    {
     "name": "stdout",
     "output_type": "stream",
     "text": [
      "2025-02-18 10:31:59.975688\n",
      "2025\n",
      "2\n",
      "18\n",
      "10\n",
      "31\n",
      "59\n",
      "18/Feb/25\n",
      "18/February/25\n",
      "18/February/25, 10:31:59\n",
      "18/February/25, 10:31:59\n",
      "28 days, 0:00:00\n",
      "\n"
     ]
    }
   ],
   "source": [
    "#import datetime\n",
    "from datetime import datetime,date,time,timedelta\n",
    "now = datetime.now()\n",
    "print(now)\n",
    "print(now.year)\n",
    "print(now.month)\n",
    "print(now.day)\n",
    "print(now.hour)\n",
    "print(now.minute)\n",
    "print(now.second)\n",
    "\n",
    "d=date.today()\n",
    "print(d.strftime('%d/%b/%y'))\n",
    "print(d.strftime('%d/%B/%y'))\n",
    "\n",
    "#timedelta used for operation between two different dates \n",
    "now=datetime.now()\n",
    "# H is for 24 hour\n",
    "print(now.strftime('%d/%B/%y, %H:%M:%S'))\n",
    "# I for 12 hours\n",
    "print(now.strftime('%d/%B/%y, %I:%M:%S'))\n",
    "\n",
    "a= timedelta(days=10)\n",
    "b=timedelta(now.day)\n",
    "print(a+b)\n",
    "print()"
   ]
  },
  {
   "cell_type": "code",
   "execution_count": null,
   "id": "a2a66357-2c59-4913-9836-27efddb20d60",
   "metadata": {},
   "outputs": [],
   "source": []
  }
 ],
 "metadata": {
  "kernelspec": {
   "display_name": "Python [conda env:base] *",
   "language": "python",
   "name": "conda-base-py"
  },
  "language_info": {
   "codemirror_mode": {
    "name": "ipython",
    "version": 3
   },
   "file_extension": ".py",
   "mimetype": "text/x-python",
   "name": "python",
   "nbconvert_exporter": "python",
   "pygments_lexer": "ipython3",
   "version": "3.12.7"
  }
 },
 "nbformat": 4,
 "nbformat_minor": 5
}
