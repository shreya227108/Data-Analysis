{
 "cells": [
  {
   "cell_type": "code",
   "execution_count": 2,
   "id": "0f98dd36-69f2-4613-9385-4d97ab59148f",
   "metadata": {},
   "outputs": [
    {
     "name": "stdout",
     "output_type": "stream",
     "text": [
      "140705275062712\n",
      "140705275062712\n"
     ]
    }
   ],
   "source": [
    "a = 1\n",
    "print(id(a))\n",
    "b=1\n",
    "print(id(b))"
   ]
  },
  {
   "cell_type": "code",
   "execution_count": 4,
   "id": "8f3af941-a087-4a23-8d25-652ef9c47c06",
   "metadata": {},
   "outputs": [
    {
     "name": "stdout",
     "output_type": "stream",
     "text": [
      "***"
     ]
    }
   ],
   "source": [
    "#how to print on same line\n",
    "print(\"*\",end=\"\")\n",
    "print(\"*\",end=\"\")\n",
    "print(\"*\",end=\"\")"
   ]
  },
  {
   "cell_type": "code",
   "execution_count": 6,
   "id": "d7b0ce71-b00e-4e67-b746-1b12de514a1c",
   "metadata": {},
   "outputs": [
    {
     "name": "stdout",
     "output_type": "stream",
     "text": [
      "****************************************************************************************************\n"
     ]
    }
   ],
   "source": [
    "print(100*\"*\")"
   ]
  },
  {
   "cell_type": "code",
   "execution_count": 8,
   "id": "3c28171a-9744-4804-8aa3-04b890687612",
   "metadata": {},
   "outputs": [
    {
     "name": "stdout",
     "output_type": "stream",
     "text": [
      "* * * * * * * * * * * * * * * * * * * * * * * * * * * * * * * * * * * * * * * * * * * * * * * * * * * * * * * * * * * * * * * * * * * * * * * * * * * * * * * * * * * * * * * * * * * * * * * * * * * * * * * * * * * * * * * * * * * * * * * * * * * * * * * * * * * * * * * * * * * * * * * * * * * * * * * * * * * * * * * * * * * * * * * * * * * * * * * * * * * * * * * * * * * * * * * * * * * * * * * * * * * * * * * * * * * * * * * * * * * * * * * * * * * * * * * * * * * * * * * * * * * * * * * * * * * * * * * * * * * * * * * * * * * * * * * * * * * * * * * * * * * * * * * * * * * * * * * * * * * * * * * * * * * * * * * * * * * * * * * * * * * * * * * * * * * * * * * * * * * * * * * * * * * * * * * * * * * * * * * * * * * * * * * * * * * * * * * * * * * * * * * * * * * * * * * * * * * * * * * * * * * * * * * * * * * * * * * * * * * * * * * * * * * * * * * * * * * * * * * * * * * * * * * * * * * * * * * * * * * * * * * * * * * * * * * * * * * * * * * * * * * * * * * * * * * * * * * * * * * * * * * * * * * * * * * * * * * * * * * * * * * * * * * * * * * * * * * * * * * * * * * * * * * * * * * * * * * * * * * * * * * * * * * * * * * * * * * * * * * * * * * * * * * * * * * * * * * * * * * * * * * * * * * * * * * * * * * * * * * * * * * * * * * * * * * * * * * * * * * * * * * * * * * * * * * * * * * * * * * * * * * * * * * * * * * * * * * * * * * * * * * * * * * * * * * * * * * * * * * * * * * * * * * * * * * * * * * * * * * * * * * * * * * * * * * * * * * * * * * * * * * * * * * * * * * * * * * * * * * * * * * * * * * * * * * * * * * * * * * * * * * * * * * * * * * * * * * * * * * * * * * * * * * * * * * * * * * * * * * * * * * * * * * * * * * * * * * * * * * * * * * * * * * * * * * * * * * * * * * * * * * * * * * * * * * * * * * * * * * * * * * * * * * * * * * * * * * * * * * * * * * * * * * * * * * * * * * * * * * * * * * * * * * * * * * * * * * * * * * * * * * * * * * * * * * * * * * * * * * * * * * * * * * * * * * * * * * * * * * * * * * * * * * * * * * * * * * * * * * * \n"
     ]
    }
   ],
   "source": [
    "print(1000*\"* \")"
   ]
  },
  {
   "cell_type": "code",
   "execution_count": 14,
   "id": "81dbb7a0-cb85-49d5-82aa-0c9e04ec51e9",
   "metadata": {},
   "outputs": [
    {
     "name": "stdout",
     "output_type": "stream",
     "text": [
      "My name is Shreya My age is: 21\n"
     ]
    }
   ],
   "source": [
    "name = \"Shreya\"\n",
    "age = 21\n",
    "print(\"My name is\",name,\"My age is:\",age)"
   ]
  },
  {
   "cell_type": "code",
   "execution_count": 137,
   "id": "b40c5828-d16b-463c-860e-69b006ed93f7",
   "metadata": {},
   "outputs": [
    {
     "name": "stdout",
     "output_type": "stream",
     "text": [
      "ayerhs si eman yM\n"
     ]
    }
   ],
   "source": [
    "data = \"My name is shreya\"\n",
    "print(data[::-1])"
   ]
  },
  {
   "cell_type": "code",
   "execution_count": 16,
   "id": "994aecd6-b3d3-49ec-a768-2f350b3229f2",
   "metadata": {},
   "outputs": [
    {
     "name": "stdout",
     "output_type": "stream",
     "text": [
      "My name is Sakshi and I live in Chalisgaon\n"
     ]
    }
   ],
   "source": [
    "#Learning about String formatting Method \n",
    "name = \"Sakshi\"\n",
    "city = \"Chalisgaon\"\n",
    "print(\"My name is {} and I live in {}\".format(name,city))"
   ]
  },
  {
   "cell_type": "code",
   "execution_count": 20,
   "id": "0fe7189d-8177-4ab4-9fd1-2947fa32a089",
   "metadata": {},
   "outputs": [
    {
     "name": "stdout",
     "output_type": "stream",
     "text": [
      "My name is Shreya I live in Jaysingpur and my age is 21, My semester marks are 94.400\n"
     ]
    }
   ],
   "source": [
    "#Another method to print the variable_val in stmt\n",
    "name = \"Shreya\"\n",
    "age = 21\n",
    "city = \"Jaysingpur\"\n",
    "marks = 94.40\n",
    "print(\"My name is %s I live in %s and my age is %d, My semester marks are %.3f\" %(name,city,age,marks))"
   ]
  },
  {
   "cell_type": "code",
   "execution_count": 22,
   "id": "7363913a-ffd4-4a21-886c-7ec91f155791",
   "metadata": {},
   "outputs": [
    {
     "name": "stdout",
     "output_type": "stream",
     "text": [
      "name\n",
      "name\n"
     ]
    }
   ],
   "source": [
    "#How to print name word from the string using positive and negativeslicing\n",
    "data = \"My name is something\"\n",
    "print(data[3:7:1])\n",
    "print(data[-17:-13:1])"
   ]
  },
  {
   "cell_type": "code",
   "execution_count": 24,
   "id": "8c637850-b90c-4f71-8fbf-bac7048df3f4",
   "metadata": {},
   "outputs": [
    {
     "name": "stdout",
     "output_type": "stream",
     "text": [
      "\n",
      "ayerhs si eman y\n"
     ]
    }
   ],
   "source": [
    "data = \"My name is shreya\"\n",
    "print(data[0:17:-1])\n",
    "print(data[17:0:-1])"
   ]
  },
  {
   "cell_type": "code",
   "execution_count": 32,
   "id": "059e1f0b-0cbb-4f4f-96be-2d4ba3bf90b1",
   "metadata": {},
   "outputs": [
    {
     "name": "stdout",
     "output_type": "stream",
     "text": [
      "something\n"
     ]
    }
   ],
   "source": [
    "#Converts string in lower case\n",
    "name = \"SOMETHING\"\n",
    "print(name.lower())"
   ]
  },
  {
   "cell_type": "code",
   "execution_count": 30,
   "id": "95ab72a0-e7fb-4a4c-b660-8bbc5fa740cb",
   "metadata": {},
   "outputs": [
    {
     "name": "stdout",
     "output_type": "stream",
     "text": [
      "SOMETHING\n"
     ]
    }
   ],
   "source": [
    "#Converts string in upper case\n",
    "name = \"SOMETHING\"\n",
    "print(name.upper())"
   ]
  },
  {
   "cell_type": "code",
   "execution_count": 28,
   "id": "0338c977-245f-49f0-a8b3-6ad8adf38cc6",
   "metadata": {},
   "outputs": [
    {
     "name": "stdout",
     "output_type": "stream",
     "text": [
      "My Name Is Sakshi And I Live In Csn\n"
     ]
    }
   ],
   "source": [
    "#Converts first letter of every word into caplital\n",
    "name = \"my name is sakshi and i live in csn\"\n",
    "print(name.title())"
   ]
  },
  {
   "cell_type": "code",
   "execution_count": 26,
   "id": "fcd015b5-7034-4ad7-9138-5e576dd402ea",
   "metadata": {},
   "outputs": [
    {
     "name": "stdout",
     "output_type": "stream",
     "text": [
      "My name is sakshi and i live in scn\n"
     ]
    }
   ],
   "source": [
    "#Converts only first letter of string in capital\n",
    "name = \"my name is sakshi and i live in scn\"\n",
    "print(name.capitalize())"
   ]
  },
  {
   "cell_type": "code",
   "execution_count": 16,
   "id": "89f41db1-5366-4f12-896b-bd4dbca89fc9",
   "metadata": {},
   "outputs": [
    {
     "name": "stdout",
     "output_type": "stream",
     "text": [
      "[1, 2, 3, 'abc', 'xyz']\n",
      "<class 'list'>\n"
     ]
    }
   ],
   "source": [
    "#List\n",
    "#first way to define  list\n",
    "a=list((1,2,3,\"abc\",\"xyz\"))\n",
    "print(a)\n",
    "print(type(a))"
   ]
  },
  {
   "cell_type": "code",
   "execution_count": 24,
   "id": "d3e3b210-9b3f-47be-83ee-4a598379004f",
   "metadata": {},
   "outputs": [
    {
     "name": "stdout",
     "output_type": "stream",
     "text": [
      "[1, 4, 'wit', 'Shreya', 'hii']\n"
     ]
    }
   ],
   "source": [
    "#second way\n",
    "b=[1,2,3,4,\"abc\",\"xyz\"]\n",
    "#replace the values\n",
    "b[5]=\"Shreya\"\n",
    "b[4]=\"Swyam\"\n",
    "\n",
    "#3 is index not value\n",
    "# three methods to delete the values\n",
    "b.remove(3)\n",
    "del b[1]\n",
    "b.pop(2)\n",
    "\n",
    "#method to add value at specific position\n",
    "b.insert(2,'wit')\n",
    "\n",
    "#method to add at last\n",
    "b.append(\"hii\")\n",
    "print(b)"
   ]
  },
  {
   "cell_type": "code",
   "execution_count": 32,
   "id": "edca7144-4ddf-4cd6-8797-61fbdfb339e5",
   "metadata": {},
   "outputs": [
    {
     "name": "stdout",
     "output_type": "stream",
     "text": [
      "[[['a', [1, 2, [[0, 2, 'Big Boss', [12, 11, 33]]]]]]]\n"
     ]
    }
   ],
   "source": [
    "a=[[[\"a\",[1,2,[[0,2,'bb',[12,11,33]]]]]]]\n",
    "a[0][0][1][2][0][2]=\"Big Boss\"\n",
    "print(a)"
   ]
  },
  {
   "cell_type": "code",
   "execution_count": 34,
   "id": "9d76156b-d935-4121-ae34-7c476f790d4b",
   "metadata": {},
   "outputs": [
    {
     "name": "stdout",
     "output_type": "stream",
     "text": [
      "[1, 2, [0, [[['xyz', [0, 99, 4, ['a', 'b', [1, 2, 3, ['yes', 'walcahnd', [[5]]]]]]]]]]]\n"
     ]
    }
   ],
   "source": [
    "a=[1,2,[0,[[['xyz',[0,99,4,['a','b',[1,2,3,['yes','no',[[5]]]]]]]]]]]\n",
    "a[2][1][0][0][1][3][2][3][1]='Walcahnd'\n",
    "print(a)"
   ]
  },
  {
   "cell_type": "code",
   "execution_count": 37,
   "id": "a4d97882-ede5-4011-818c-3f314474797e",
   "metadata": {},
   "outputs": [
    {
     "name": "stdout",
     "output_type": "stream",
     "text": [
      "(1, 2, 3, 4, 5, 'abc', 'xyz')\n",
      "<class 'tuple'>\n"
     ]
    }
   ],
   "source": [
    "#tuple\n",
    "a=tuple((1,2,3,4,5,'abc','xyz'))\n",
    "print(a)\n",
    "print(type(a))"
   ]
  },
  {
   "cell_type": "code",
   "execution_count": 135,
   "id": "525b8798-45f2-4aa3-a3f7-4cf0e9de0790",
   "metadata": {},
   "outputs": [
    {
     "name": "stdout",
     "output_type": "stream",
     "text": [
      "(1, 2, 3, 4)\n",
      "<class 'tuple'>\n"
     ]
    }
   ],
   "source": [
    "a=(1,2)\n",
    "b=(3,4)\n",
    "print(a+b)\n",
    "print(type(a))"
   ]
  },
  {
   "cell_type": "code",
   "execution_count": 41,
   "id": "6e0734e5-82d8-4c51-aca1-2425e37eba17",
   "metadata": {},
   "outputs": [
    {
     "name": "stdout",
     "output_type": "stream",
     "text": [
      "<class 'tuple'>\n"
     ]
    }
   ],
   "source": [
    "#add a comma whn u have to save single vlaue in tuple\n",
    "a=(1,)\n",
    "print(type(a))"
   ]
  },
  {
   "cell_type": "code",
   "execution_count": 45,
   "id": "76873ebb-54fd-4953-8c77-4b8f6da50086",
   "metadata": {},
   "outputs": [
    {
     "name": "stdout",
     "output_type": "stream",
     "text": [
      "shreya\n",
      "mumbai\n"
     ]
    },
    {
     "data": {
      "text/plain": [
       "56"
      ]
     },
     "execution_count": 45,
     "metadata": {},
     "output_type": "execute_result"
    }
   ],
   "source": [
    "a=(\"shreya\",\"mumbai\",56)\n",
    "(name,city,age)= a\n",
    "print(name)\n",
    "print(city)\n",
    "#jupyter notebook consist default print\n",
    "age"
   ]
  },
  {
   "cell_type": "code",
   "execution_count": 59,
   "id": "93a03747-463d-475e-ab9d-59efc68d5f8d",
   "metadata": {},
   "outputs": [
    {
     "name": "stdout",
     "output_type": "stream",
     "text": [
      "('WIT',)\n"
     ]
    }
   ],
   "source": [
    "a=[1,2,[0,([['xyz',(0,99,4,['a','b',[1,2,3,['yes',('no',),[[5]]]]])]])]]\n",
    "b=list(a[2][1][0][1][3][2][3][1])\n",
    "b[0]=\"WIT\"\n",
    "c=tuple(b)\n",
    "print(c)\n",
    "#by converting the tupple to list"
   ]
  },
  {
   "cell_type": "code",
   "execution_count": 61,
   "id": "5e219f90-e3ce-41be-a748-47dcf2a1a1b5",
   "metadata": {},
   "outputs": [
    {
     "name": "stdout",
     "output_type": "stream",
     "text": [
      "[1, 2, [0, [['xyz', (0, 99, 4, ['a', 'b', [1, 2, 3, ['yes', 'WIT,', [[5]]]]])]]]]\n"
     ]
    }
   ],
   "source": [
    "a=[1,2,[0,([['xyz',(0,99,4,['a','b',[1,2,3,['yes',('no',),[[5]]]]])]])]]\n",
    "b=a[2][1][0][1][3][2][3][1]=(\"WIT,\")\n",
    "print(a)"
   ]
  },
  {
   "cell_type": "code",
   "execution_count": 78,
   "id": "92a3c6ac-fd2a-4ec9-86e5-6c2f02b59423",
   "metadata": {},
   "outputs": [
    {
     "name": "stdout",
     "output_type": "stream",
     "text": [
      "{'msg': 'hii', 'name': 'Shreya', 'age': 60, 'city': 'Kolhapur'}\n",
      "<class 'dict'>\n",
      "4\n",
      "Shreya\n",
      "Shreya\n",
      "{'msg': 'hii', 'name': 'Shreya', 'age': 60, 'city': 'Kolhapur', 'year': 1962}\n",
      "{'name': 'Shreya', 'age': 60, 'city': 'Kolhapur', 'year': 1962}\n"
     ]
    }
   ],
   "source": [
    "#dictionary\n",
    "a={'msg':'hii', 'name':'Shreya', 'age':60, 'city':'Kolhapur'}\n",
    "print(a)\n",
    "print(type(a))\n",
    "print(len(a))\n",
    "print(a['name'])\n",
    "print(a.get('name'))\n",
    "a.update({'year':1962})\n",
    "print(a)\n",
    "del a['msg']\n",
    "print(a)\n",
    "#a.clear()\n",
    "#del a\n",
    "#print(a)"
   ]
  },
  {
   "cell_type": "code",
   "execution_count": 82,
   "id": "7e91eab4-1233-40fe-aaf7-dab0afd509fd",
   "metadata": {},
   "outputs": [
    {
     "name": "stdout",
     "output_type": "stream",
     "text": [
      "{'name': {'age': 33, 'data': [1, 2, 3, 5, 7, {'data': {'new': ['NO']}}]}}\n"
     ]
    }
   ],
   "source": [
    "a={'name':{'age':33,'data':[1,2,3,5,7,{'data':{'new':['yes']}}]}}\n",
    "a['name']['data'][5]['data']['new'][0]=\"NO\"\n",
    "print(a)"
   ]
  },
  {
   "cell_type": "code",
   "execution_count": 7,
   "id": "5c67ae11-0eab-437c-b3a6-81c7e8315ddd",
   "metadata": {},
   "outputs": [
    {
     "name": "stdout",
     "output_type": "stream",
     "text": [
      "{'name': 'Shreya', 'age': 60, 'yera': 1998}\n",
      "dict_keys(['name', 'age', 'yera'])\n",
      "dict_values(['Shreya', 60, 1998])\n"
     ]
    }
   ],
   "source": [
    "a={'name':'Shreya','age':60,'year':1998}\n",
    "print(a)\n",
    "print(a.keys())\n",
    "print(a.values())"
   ]
  },
  {
   "cell_type": "code",
   "execution_count": 11,
   "id": "1d825c9a-9863-41be-b292-382eb5c87b70",
   "metadata": {},
   "outputs": [
    {
     "name": "stdout",
     "output_type": "stream",
     "text": [
      "{1, 'b', 'abc', 'a', 'xyz'}\n"
     ]
    }
   ],
   "source": [
    "#set\n",
    "a={\"abc\",1,\"xyz\",'a','b'}\n",
    "print(a)"
   ]
  },
  {
   "cell_type": "code",
   "execution_count": 13,
   "id": "ce7665a4-3360-4fb6-b969-09c387e605d8",
   "metadata": {},
   "outputs": [
    {
     "name": "stdout",
     "output_type": "stream",
     "text": [
      "1\n",
      "2\n",
      "3\n",
      "4\n",
      "5\n",
      "6\n",
      "7\n",
      "8\n",
      "9\n",
      "10\n"
     ]
    }
   ],
   "source": [
    "#while loop\n",
    "i=1\n",
    "while i<=10:\n",
    "    print(i)\n",
    "    i+=1"
   ]
  },
  {
   "cell_type": "code",
   "execution_count": 15,
   "id": "b1ec55f4-233a-4d50-b0c5-b0c54f7600ac",
   "metadata": {},
   "outputs": [
    {
     "name": "stdout",
     "output_type": "stream",
     "text": [
      "1\n",
      "2\n",
      "3\n",
      "4\n",
      "5\n",
      "6\n",
      "7\n",
      "8\n",
      "9\n",
      "10\n"
     ]
    }
   ],
   "source": [
    "for i in range(1,11,1):\n",
    "    print(i)"
   ]
  },
  {
   "cell_type": "code",
   "execution_count": 21,
   "id": "951848ea-69f9-4b00-8e57-d0c03aa3fa6e",
   "metadata": {},
   "outputs": [
    {
     "name": "stdout",
     "output_type": "stream",
     "text": [
      "2\n",
      "4\n",
      "6\n",
      "8\n",
      "10\n"
     ]
    }
   ],
   "source": [
    "#even numbers\n",
    "#1.for loop\n",
    "a=[1,2,3,4,5,6,7,8,9,10]\n",
    "for i in range(len(a)):\n",
    "    if i%2 != 0:\n",
    "        print(a[i])"
   ]
  },
  {
   "cell_type": "code",
   "execution_count": 12,
   "id": "ca42c968-2822-48eb-97bc-3557caa83b3c",
   "metadata": {},
   "outputs": [
    {
     "name": "stdout",
     "output_type": "stream",
     "text": [
      "2\n",
      "4\n",
      "6\n",
      "8\n",
      "10\n"
     ]
    }
   ],
   "source": [
    "# Even index elements using a while loop\n",
    "a = [1, 2, 3, 4, 5, 6, 7, 8, 9, 10]\n",
    "i = 0 \n",
    "while i < len(a):\n",
    "    if i % 2 != 0:\n",
    "        print(a[i])\n",
    "    i += 1 "
   ]
  },
  {
   "cell_type": "code",
   "execution_count": 4,
   "id": "1de71b12-3e17-4a75-a46e-740f8cd74436",
   "metadata": {},
   "outputs": [
    {
     "name": "stdout",
     "output_type": "stream",
     "text": [
      "[2, 4, 6, 8, 10]\n"
     ]
    }
   ],
   "source": [
    "#sir's method(even number) \n",
    "a=[1,2,3,4,5,6,7,8,9,10]\n",
    "b=[]\n",
    "for i in range(len(a)):\n",
    "    if a[i]%2 == 0:\n",
    "        b.append(a[i])\n",
    "print(b)"
   ]
  },
  {
   "cell_type": "code",
   "execution_count": 6,
   "id": "8cde64ef-c9f7-4377-9084-d83f59783a87",
   "metadata": {},
   "outputs": [
    {
     "name": "stdout",
     "output_type": "stream",
     "text": [
      "[66, 22, 20, 18, 5, 4, 3, 2, 1]\n",
      "2\n"
     ]
    }
   ],
   "source": [
    "#sort this without using function\n",
    "a=[18,20,2,3,4,5,66,1,22]\n",
    "for i in range(len(a)):\n",
    "    for j in range(len(a)):\n",
    "        if a[i]>= a[j]:\n",
    "            temp =a[i]\n",
    "            a[i]=a[j]\n",
    "            a[j] =temp\n",
    "print(a)\n",
    "print(a[-2])"
   ]
  },
  {
   "cell_type": "code",
   "execution_count": 8,
   "id": "4f14d5a6-4fc8-42f5-888b-3cbf83985745",
   "metadata": {},
   "outputs": [
    {
     "name": "stdout",
     "output_type": "stream",
     "text": [
      "[1]\n",
      "[1, 2]\n",
      "[1, 2, 34]\n",
      "[1, 2, 34, 69]\n",
      "[1, 2, 34, 69, 77]\n",
      "[1, 2, 34, 69, 77, 85]\n",
      "[1, 2, 34, 69, 77, 85, 88]\n"
     ]
    }
   ],
   "source": [
    "a=[88,34,1,2,2,1,85,77,69]\n",
    "b=[]\n",
    "#sort the list\n",
    "for i in range(len(a)):\n",
    "    for j in range(len(a)):\n",
    "        if a[i]<= a[j]:\n",
    "            temp =a[i]\n",
    "            a[i]=a[j]\n",
    "            a[j] =temp\n",
    "#remove the duplicates\n",
    "for i in a:\n",
    "    if i not in b:\n",
    "        b.append(i)\n",
    "        print(b)"
   ]
  },
  {
   "cell_type": "code",
   "execution_count": 34,
   "id": "2a746215-f00f-418c-91e2-e650604fe067",
   "metadata": {},
   "outputs": [
    {
     "name": "stdout",
     "output_type": "stream",
     "text": [
      "A \n",
      "B B \n",
      "C C C \n",
      "D D D D \n",
      "A\n",
      "BB\n",
      "CCC\n",
      "DDDD\n"
     ]
    }
   ],
   "source": [
    "a=[\"A\",\"B\",\"C\",\"D\"]\n",
    "#2 loops\n",
    "for i in range(len(a)):\n",
    "    for j in range(i+1):\n",
    "            print(a[i], end=\" \")\n",
    "    print()\n",
    "\n",
    "#1 loop\n",
    "c=1\n",
    "for i in range(len(a)):\n",
    "    print(a[i]*c)\n",
    "    c+=1"
   ]
  },
  {
   "cell_type": "code",
   "execution_count": 36,
   "id": "9f90253b-48e0-4a67-b6a6-fe9e61ab3758",
   "metadata": {
    "scrolled": true
   },
   "outputs": [
    {
     "name": "stdin",
     "output_type": "stream",
     "text": [
      "Enter the name: Shreya\n"
     ]
    },
    {
     "name": "stdout",
     "output_type": "stream",
     "text": [
      "Shreya\n"
     ]
    }
   ],
   "source": [
    "#user Input\n",
    "u1 = input(\"Enter the name:\")\n",
    "print(u1)\n"
   ]
  },
  {
   "cell_type": "code",
   "execution_count": 38,
   "id": "b4cc4bea-d512-42ac-82a0-1992a58cb703",
   "metadata": {},
   "outputs": [
    {
     "name": "stdin",
     "output_type": "stream",
     "text": [
      "Enter the seat number 560\n",
      "Enter the mother name:  vandana\n"
     ]
    },
    {
     "name": "stdout",
     "output_type": "stream",
     "text": [
      "Math:45 /n Chemistry:40 /n Physics:49 /n Avg:44.666666666666664\n"
     ]
    }
   ],
   "source": [
    "#result presentor(static)\n",
    "seat=input(\"Enter the seat number\")\n",
    "mname= input(\"Enter the mother name: \")\n",
    "if seat==\"560\" and mname== \"vandana\":\n",
    "    math=45\n",
    "    che=40\n",
    "    phy=49\n",
    "    avg=(math+che+phy)/3\n",
    "    print(f\"Math:{math} /n Chemistry:{che} /n Physics:{phy} /n Avg:{avg}\")\n",
    "    "
   ]
  },
  {
   "cell_type": "code",
   "execution_count": 44,
   "id": "4dcd6bfc-5590-4430-9c52-48668849f3e7",
   "metadata": {},
   "outputs": [
    {
     "name": "stdin",
     "output_type": "stream",
     "text": [
      "Enter the seat number:  540\n",
      "Enter mother's name:  str\n"
     ]
    },
    {
     "name": "stdout",
     "output_type": "stream",
     "text": [
      "[34, 36, 35]\n",
      "Maths:34\n",
      "Che:36\n",
      "Phy:35\n",
      "percentage 35.0 %\n"
     ]
    }
   ],
   "source": [
    "#Students result system\n",
    "print(\"++++++++++++++++++ Check Result +++++++++++++++++\")\n",
    "useat =int(input(\"Enter the seat number: \"))\n",
    "uname =input(\"Enter mother's name: \")\n",
    "seat=[510,520,530,540]\n",
    "mname=['abc','xyz','pqr','str']\n",
    "data={510:[40,50,23],520:[20,42,43],530:[40,24,23],540:[34,36,35]}\n",
    "\n",
    "for i in range(len(seat)):\n",
    "    if seat[i]==useat and mname[i]==uname:\n",
    "        for j in data:\n",
    "            if j==seat[i]:\n",
    "                print(data[j])\n",
    "                print(f\"Maths:{data[j][0]}\")\n",
    "                print(f\"Che:{data[j][1]}\")\n",
    "                print(f\"Phy:{data[j][2]}\")\n",
    "                avg= (data[j][0]+ data[j][1]+ data[j][2])/3\n",
    "                print(\"percentage\",avg,\"%\")"
   ]
  },
  {
   "cell_type": "code",
   "execution_count": 46,
   "id": "120de590-4708-41ae-ba7c-095a8fd8e8fb",
   "metadata": {},
   "outputs": [
    {
     "name": "stdin",
     "output_type": "stream",
     "text": [
      "Enter your pin:  1234\n",
      "Enter the amount:  900\n"
     ]
    },
    {
     "name": "stdout",
     "output_type": "stream",
     "text": [
      "Thanks for Banking with us!!\n"
     ]
    }
   ],
   "source": [
    "#ATM System(partial)\n",
    "pin=int(input(\"Enter your pin: \"))\n",
    "amount=int(input(\"Enter the amount: \"))\n",
    "pinn={1234,2345,3456}\n",
    "for i in pinn:\n",
    "    if i==pinn:\n",
    "        if amount%100 == 0:\n",
    "            if amount>=500:\n",
    "                notes=amount // 500\n",
    "                print(f\"recieved {notes} notes of 500\")\n",
    "                amount=amount%500\n",
    "            if  amount>=200:\n",
    "                notes=amount//200\n",
    "                print(f\"Recieved {notes} notes of 200\")\n",
    "                amount=amount%200\n",
    "            if amount>=100:\n",
    "                notes=amount//100\n",
    "                print(f\"Recieved {notes} notes of 100\")\n",
    "        else:\n",
    "            print(\"Amount should be multiple of 100\")\n",
    "        break\n",
    "print(\"Thanks for Banking with us!!\")\n",
    "    "
   ]
  },
  {
   "cell_type": "code",
   "execution_count": 2,
   "id": "2cc154bf-d15a-4f2f-a56f-7e4494efa774",
   "metadata": {},
   "outputs": [
    {
     "name": "stdout",
     "output_type": "stream",
     "text": [
      "+++++++++++++++ Welcome to ATM Machine +++++++++++++++++\n"
     ]
    },
    {
     "name": "stdin",
     "output_type": "stream",
     "text": [
      "Enter your pin:  555\n"
     ]
    },
    {
     "name": "stdout",
     "output_type": "stream",
     "text": [
      "Invalid Pin, Please put correct pin\n"
     ]
    },
    {
     "name": "stdin",
     "output_type": "stream",
     "text": [
      "Enter your pin:  1234\n",
      "Enter the amount of withdrawal:  500\n"
     ]
    },
    {
     "name": "stdout",
     "output_type": "stream",
     "text": [
      "recieved 1 notes of 500\n",
      "Thankyou for choosing us...Have a good day\n"
     ]
    }
   ],
   "source": [
    "#ATM Machine(Cmplete)\n",
    "print(\"+++++++++++++++ Welcome to ATM Machine +++++++++++++++++\")\n",
    "for i in range(3):\n",
    "    pin = int(input(\"Enter your pin: \"))\n",
    "    l1=[1234,2345,3456,4567]\n",
    "    if pin in l1:\n",
    "        amount = int(input(\"Enter the amount of withdrawal: \"))\n",
    "        if amount%100 == 0:\n",
    "            if amount>=500:\n",
    "                notes=amount // 500\n",
    "                print(f\"recieved {notes} notes of 500\")\n",
    "                amount=amount%500\n",
    "            if  amount>=200:\n",
    "                notes=amount//200\n",
    "                print(f\"Recieved {notes} notes of 200\")\n",
    "                amount=amount%200\n",
    "            if amount>=100:\n",
    "                notes=amount//100\n",
    "                print(f\"Recieved {notes} notes of 100\")\n",
    "        else:\n",
    "            print(\"Amount should be multiple of 100\")\n",
    "        break\n",
    "    else:\n",
    "        print(\"Invalid Pin, Please put correct pin\")\n",
    "else:\n",
    "    print(\"Your account has been blocked for 24 hours chorr try contacting your bank!\")\n",
    "print(\"Thankyou for choosing us...Have a good day\")"
   ]
  },
  {
   "cell_type": "code",
   "execution_count": null,
   "id": "14a9d435-4755-44da-a0af-dacbdb771726",
   "metadata": {},
   "outputs": [],
   "source": []
  }
 ],
 "metadata": {
  "kernelspec": {
   "display_name": "Python [conda env:base] *",
   "language": "python",
   "name": "conda-base-py"
  },
  "language_info": {
   "codemirror_mode": {
    "name": "ipython",
    "version": 3
   },
   "file_extension": ".py",
   "mimetype": "text/x-python",
   "name": "python",
   "nbconvert_exporter": "python",
   "pygments_lexer": "ipython3",
   "version": "3.12.7"
  }
 },
 "nbformat": 4,
 "nbformat_minor": 5
}
